{
 "cells": [
  {
   "cell_type": "code",
   "execution_count": 1,
   "metadata": {},
   "outputs": [],
   "source": [
    "import multiprocessing\n",
    "\n",
    "def square(number):\n",
    "    result = number * number\n",
    "    print(f'The square of {number} is {result}')"
   ]
  },
  {
   "cell_type": "code",
   "execution_count": 2,
   "metadata": {},
   "outputs": [
    {
     "name": "stdout",
     "output_type": "stream",
     "text": [
      "The square of 0 is 0\n",
      "The square of 1 is 1\n",
      "The square of 2 is 4\n",
      "The square of 3 is 9\n",
      "The square of 4 is 16\n",
      "All processes completed.\n",
      "All processes completed.\n",
      "All processes completed.\n",
      "All processes completed.\n",
      "All processes completed.\n"
     ]
    }
   ],
   "source": [
    "processes = []\n",
    "\n",
    "for i in range(5):\n",
    "        process = multiprocessing.Process(target=square, args=(i,))\n",
    "        processes.append(process)\n",
    "        process.start()\n",
    "\n",
    "for process in processes:\n",
    "    process.join()\n",
    "\n",
    "    print(\"All processes completed.\")"
   ]
  },
  {
   "cell_type": "markdown",
   "metadata": {},
   "source": [
    "What join() Does\n",
    "\n",
    "The join() method is used to ensure that the main process (or any other process that has started child processes) waits for all the child processes to complete before continuing. This is crucial for several reasons:\n",
    "\n",
    "    Synchronization: join() ensures that all child processes have finished executing before the main process proceeds. This is important for synchronization, especially if the main process depends on the results from the child processes.\n",
    "\n",
    "    Resource Management: Without join(), child processes may still be running when the main process exits, which can lead to resource leaks and unexpected behavior. Using join() helps in managing resources properly by making sure that all processes are cleaned up before the program exits.\n",
    "\n",
    "    Order of Execution: join() helps maintain the order of execution if you need to ensure that all child processes have completed before moving on to subsequent code. This is useful in scenarios where the results of child processes are required for further processing."
   ]
  },
  {
   "cell_type": "code",
   "execution_count": 3,
   "metadata": {},
   "outputs": [
    {
     "name": "stdout",
     "output_type": "stream",
     "text": [
      "Worker 0 starting\n",
      "Worker 1 starting\n",
      "Worker 2 starting\n",
      "Worker 0 finished\n",
      "Worker 1 finished\n",
      "Worker 2 finished\n",
      "All processes completed.\n",
      "All processes completed.\n",
      "All processes completed.\n"
     ]
    }
   ],
   "source": [
    "import multiprocessing\n",
    "import time\n",
    "\n",
    "def worker(number):\n",
    "    print(f'Worker {number} starting')\n",
    "    time.sleep(2)\n",
    "    print(f'Worker {number} finished')\n",
    "\n",
    "\n",
    "processes = []\n",
    "\n",
    "for i in range(3):\n",
    "        process = multiprocessing.Process(target=worker, args=(i,))\n",
    "        processes.append(process)\n",
    "        process.start()\n",
    "\n",
    "    # Ensure all processes are completed before exiting the main program\n",
    "for process in processes:\n",
    "    process.join()\n",
    "\n",
    "    print(\"All processes completed.\")"
   ]
  },
  {
   "cell_type": "markdown",
   "metadata": {},
   "source": [
    "<b>Producer and Consumer Functions:</b>"
   ]
  },
  {
   "cell_type": "code",
   "execution_count": 4,
   "metadata": {},
   "outputs": [],
   "source": [
    "import multiprocessing\n",
    "import time\n",
    "import random\n",
    "\n",
    "def producer(queue, n):\n",
    "    for _ in range(n):\n",
    "        item = random.randint(0, 100)\n",
    "        queue.put(item)\n",
    "        print(f'Produced {item}')\n",
    "        time.sleep(random.random())\n",
    "\n",
    "def consumer(queue):\n",
    "    while True:\n",
    "        item = queue.get()\n",
    "        if item is None:\n",
    "            break\n",
    "        print(f'Consumed {item}')\n",
    "        time.sleep(random.random())"
   ]
  },
  {
   "cell_type": "code",
   "execution_count": 5,
   "metadata": {},
   "outputs": [
    {
     "name": "stdout",
     "output_type": "stream",
     "text": [
      "Produced 42\n",
      "Consumed 42\n",
      "Produced 42Consumed 42\n",
      "\n",
      "Produced 56\n",
      "Consumed 56\n",
      "Produced 55Consumed 55\n",
      "\n",
      "Produced 59\n",
      "Consumed 59\n",
      "Produced 41\n",
      "Consumed 41\n",
      "Produced 97Consumed 97\n",
      "\n",
      "Produced 96Consumed 96\n",
      "\n",
      "Produced 35\n",
      "Consumed 35\n",
      "Produced 85\n",
      "Consumed 85\n",
      "All processes completed.\n"
     ]
    }
   ],
   "source": [
    "queue = multiprocessing.Queue()\n",
    "n = 10\n",
    "\n",
    "producer_process = multiprocessing.Process(target=producer, args=(queue, n))\n",
    "consumer_process = multiprocessing.Process(target=consumer, args=(queue,))\n",
    "\n",
    "producer_process.start()\n",
    "consumer_process.start()\n",
    "\n",
    "producer_process.join()\n",
    "queue.put(None)  # Signal the consumer to exit\n",
    "consumer_process.join()\n",
    "\n",
    "print(\"All processes completed.\")"
   ]
  },
  {
   "cell_type": "code",
   "execution_count": 7,
   "metadata": {},
   "outputs": [
    {
     "name": "stdout",
     "output_type": "stream",
     "text": [
      "[1, 4, 9]\n"
     ]
    }
   ],
   "source": [
    "from multiprocessing import Pool #multipocessing mapping parallelism \n",
    "def f(x):\n",
    "    return x*x\n",
    "\n",
    "\n",
    "with Pool(5) as p:\n",
    "        print(p.map(f, [1, 2, 3]))"
   ]
  },
  {
   "cell_type": "code",
   "execution_count": 8,
   "metadata": {},
   "outputs": [],
   "source": [
    "def add(x, y):\n",
    "    return x + y\n",
    "pairs = [(1, 2), (3, 4), (5, 6)]\n",
    "    \n",
    "with multiprocessing.Pool(processes=3) as pool:\n",
    "        results = pool.starmap(add, pairs)\n",
    "    \n"
   ]
  },
  {
   "cell_type": "code",
   "execution_count": 10,
   "metadata": {},
   "outputs": [
    {
     "name": "stdout",
     "output_type": "stream",
     "text": [
      "Worker function running\n"
     ]
    }
   ],
   "source": [
    "import multiprocessing\n",
    "\n",
    "def worker():\n",
    "    print(\"Worker function running\")\n",
    "\n",
    "\n",
    "p = multiprocessing.Process(target=worker)\n",
    "p.start()\n",
    "p.join()  # Wait for the process to finish\n"
   ]
  },
  {
   "cell_type": "code",
   "execution_count": 11,
   "metadata": {},
   "outputs": [
    {
     "name": "stdout",
     "output_type": "stream",
     "text": [
      "Shared value: 200\n"
     ]
    }
   ],
   "source": [
    "import multiprocessing\n",
    "\n",
    "def increment(shared_value):\n",
    "    for _ in range(100):\n",
    "        shared_value.value += 1\n",
    "\n",
    "\n",
    "shared_value = multiprocessing.Value('i', 0)\n",
    "p1 = multiprocessing.Process(target=increment, args=(shared_value,))\n",
    "p2 = multiprocessing.Process(target=increment, args=(shared_value,))\n",
    "p1.start()\n",
    "p2.start()\n",
    "p1.join()\n",
    "p2.join()\n",
    "print(f'Shared value: {shared_value.value}')"
   ]
  }
 ],
 "metadata": {
  "kernelspec": {
   "display_name": "training",
   "language": "python",
   "name": "python3"
  },
  "language_info": {
   "codemirror_mode": {
    "name": "ipython",
    "version": 3
   },
   "file_extension": ".py",
   "mimetype": "text/x-python",
   "name": "python",
   "nbconvert_exporter": "python",
   "pygments_lexer": "ipython3",
   "version": "3.10.14"
  }
 },
 "nbformat": 4,
 "nbformat_minor": 2
}
