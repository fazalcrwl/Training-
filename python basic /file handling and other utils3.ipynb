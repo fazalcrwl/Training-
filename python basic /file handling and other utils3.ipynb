{
 "cells": [
  {
   "cell_type": "code",
   "execution_count": 3,
   "metadata": {},
   "outputs": [],
   "source": [
    "def write_to_file(filename, content):\n",
    "    try:\n",
    "        with open(filename, 'w') as file:\n",
    "            file.write(content)\n",
    "        print(f\"Successfully written to {filename}\")\n",
    "    except IOError as e:\n",
    "        print(f\"An error occurred while writing to the file: {e}\")\n",
    "\n",
    "def read_from_file(filename):\n",
    "    try:\n",
    "        with open(filename, 'r') as file:\n",
    "            return file.read()\n",
    "    except IOError as e:\n",
    "        print(f\"An error occurred while reading the file: {e}\")\n",
    "\n",
    "# Main function to demonstrate file handling\n",
    "def main():\n",
    "    write_to_file('example.txt', \"Hello, world!\\nThis is a new line.\")\n",
    "    content = read_from_file('example.txt')\n",
    "    if content:\n",
    "        print(\"File content:\")\n",
    "        print(content)"
   ]
  },
  {
   "cell_type": "code",
   "execution_count": 4,
   "metadata": {},
   "outputs": [
    {
     "name": "stdout",
     "output_type": "stream",
     "text": [
      "Successfully written to example.txt\n",
      "File content:\n",
      "Hello, world!\n",
      "This is a new line.\n"
     ]
    }
   ],
   "source": [
    "main()"
   ]
  },
  {
   "cell_type": "markdown",
   "metadata": {},
   "source": [
    "Iterator"
   ]
  },
  {
   "cell_type": "code",
   "execution_count": 11,
   "metadata": {},
   "outputs": [
    {
     "name": "stdout",
     "output_type": "stream",
     "text": [
      "1\n",
      "2\n"
     ]
    }
   ],
   "source": [
    "nums=[1,2,3,5]\n",
    "it=iter(nums)\n",
    "print(it.__next__())\n",
    "print(it.__next__())"
   ]
  },
  {
   "cell_type": "code",
   "execution_count": 22,
   "metadata": {},
   "outputs": [],
   "source": [
    "class topten:\n",
    "    def __init__(self,num):\n",
    "        self.num=num\n",
    "    def __iter__(self):\n",
    "        return self\n",
    "    def __next__(self):\n",
    "        if self.num<=10:\n",
    "            val=self.num\n",
    "            \n",
    "            self.num+=1\n",
    "            return val \n",
    "\n"
   ]
  },
  {
   "cell_type": "code",
   "execution_count": 23,
   "metadata": {},
   "outputs": [],
   "source": [
    "values=topten(2)\n"
   ]
  },
  {
   "cell_type": "code",
   "execution_count": 25,
   "metadata": {},
   "outputs": [
    {
     "name": "stdout",
     "output_type": "stream",
     "text": [
      "3\n",
      "3\n",
      "4\n",
      "4\n"
     ]
    }
   ],
   "source": [
    "print(values.__next__())\n",
    "print(values.__next__())"
   ]
  },
  {
   "cell_type": "markdown",
   "metadata": {},
   "source": [
    "Generator"
   ]
  },
  {
   "cell_type": "code",
   "execution_count": 27,
   "metadata": {},
   "outputs": [],
   "source": [
    "#its not storing any values but it will geberate the values in range next value it act as a place holder it will generate the value whn next command is call\n",
    "def gen():\n",
    "    for i in range(5):\n",
    "        yield i \n",
    "    "
   ]
  },
  {
   "cell_type": "code",
   "execution_count": 32,
   "metadata": {},
   "outputs": [
    {
     "name": "stdout",
     "output_type": "stream",
     "text": [
      "0\n",
      "1\n",
      "2\n"
     ]
    }
   ],
   "source": [
    "gen1=gen()\n",
    "print(next(gen1))\n",
    "print(next(gen1))\n",
    "print(next(gen1))\n",
    "\n"
   ]
  },
  {
   "cell_type": "markdown",
   "metadata": {},
   "source": [
    "Decorators"
   ]
  },
  {
   "cell_type": "code",
   "execution_count": 43,
   "metadata": {},
   "outputs": [],
   "source": [
    "def greet(f):\n",
    "    def mfx(*args,**kwargs):\n",
    "        print(\"Good Morning\")\n",
    "        f(*args,**kwargs)\n",
    "        print(\"program is closing\")\n",
    "    return mfx\n"
   ]
  },
  {
   "cell_type": "code",
   "execution_count": 48,
   "metadata": {},
   "outputs": [],
   "source": [
    "@greet\n",
    "def add(x,y):\n",
    "    print(x+y)\n",
    "    return x+y\n"
   ]
  },
  {
   "cell_type": "code",
   "execution_count": 49,
   "metadata": {},
   "outputs": [],
   "source": [
    "@greet\n",
    "def hello():\n",
    "    print(\"hello\")"
   ]
  },
  {
   "cell_type": "code",
   "execution_count": 50,
   "metadata": {},
   "outputs": [
    {
     "name": "stdout",
     "output_type": "stream",
     "text": [
      "Good Morning\n",
      "hello\n",
      "program is closing\n"
     ]
    }
   ],
   "source": [
    "hello()"
   ]
  },
  {
   "cell_type": "code",
   "execution_count": 51,
   "metadata": {},
   "outputs": [
    {
     "name": "stdout",
     "output_type": "stream",
     "text": [
      "Good Morning\n",
      "3\n",
      "program is closing\n"
     ]
    }
   ],
   "source": [
    "add(1,2)"
   ]
  },
  {
   "cell_type": "markdown",
   "metadata": {},
   "source": [
    "Random library"
   ]
  },
  {
   "cell_type": "code",
   "execution_count": 55,
   "metadata": {},
   "outputs": [
    {
     "data": {
      "text/plain": [
       "3.8330201071536654"
      ]
     },
     "execution_count": 55,
     "metadata": {},
     "output_type": "execute_result"
    }
   ],
   "source": [
    "import random\n",
    "\n",
    "random_integer = random.randint(1, 10)\n",
    "random_integer\n",
    "random_uniform = random.uniform(1.5, 6.5)\n",
    "random_uniform"
   ]
  },
  {
   "cell_type": "code",
   "execution_count": 57,
   "metadata": {},
   "outputs": [
    {
     "data": {
      "text/plain": [
       "[1, 7, 9]"
      ]
     },
     "execution_count": 57,
     "metadata": {},
     "output_type": "execute_result"
    }
   ],
   "source": [
    "random_sample = random.sample(range(1, 10), 3)\n",
    "random_sample"
   ]
  },
  {
   "cell_type": "code",
   "execution_count": 65,
   "metadata": {},
   "outputs": [
    {
     "name": "stdout",
     "output_type": "stream",
     "text": [
      "Random Boolean: True\n"
     ]
    }
   ],
   "source": [
    "random_boolean = bool(random.getrandbits(1))\n",
    "print(f\"Random Boolean: {random_boolean}\")\n"
   ]
  },
  {
   "cell_type": "code",
   "execution_count": 68,
   "metadata": {},
   "outputs": [],
   "source": [
    "import numpy as np\n"
   ]
  },
  {
   "cell_type": "code",
   "execution_count": 74,
   "metadata": {},
   "outputs": [],
   "source": [
    "ar=np.array([1,2,3,4,5,6])\n",
    "newar=[newar.append(x) for x in ar if x%2==0 ]"
   ]
  },
  {
   "cell_type": "code",
   "execution_count": 75,
   "metadata": {},
   "outputs": [
    {
     "data": {
      "text/plain": [
       "[None, None, None]"
      ]
     },
     "execution_count": 75,
     "metadata": {},
     "output_type": "execute_result"
    }
   ],
   "source": [
    "newar"
   ]
  },
  {
   "cell_type": "markdown",
   "metadata": {},
   "source": [
    "<h1><b>Numpy<b></h1>"
   ]
  },
  {
   "cell_type": "code",
   "execution_count": 82,
   "metadata": {},
   "outputs": [
    {
     "name": "stdout",
     "output_type": "stream",
     "text": [
      "[3 7 5 5 3 7 7 5 7 7 7 7 7 3 7 5 7 5 7 7 7 7 7 7 7 5 3 3 7 7 7 3 7 7 5 7 5\n",
      " 7 5 7 7 7 5 5 7 7 7 7 5 7 7 7 7 3 7 5 5 7 5 7 3 7 3 7 3 5 5 5 7 5 3 7 5 7\n",
      " 5 7 7 5 7 7 7 7 5 7 5 7 7 5 7 7 3 5 7 3 7 7 7 5 7 7]\n"
     ]
    }
   ],
   "source": [
    "from numpy import random\n",
    "\n",
    "x = random.choice([3, 5, 7, 9], p=[0.1, 0.3, 0.6, 0.0], size=(100))\n",
    "\n",
    "print(x) "
   ]
  },
  {
   "cell_type": "code",
   "execution_count": 83,
   "metadata": {},
   "outputs": [
    {
     "name": "stdout",
     "output_type": "stream",
     "text": [
      "[[ 0.48307168 -1.85799356  1.3100443 ]\n",
      " [-0.07441689  4.49798048  5.3472556 ]]\n"
     ]
    }
   ],
   "source": [
    "from numpy import random\n",
    "\n",
    "x = random.normal(loc=1, scale=2, size=(2, 3))\n",
    "\n",
    "print(x) "
   ]
  },
  {
   "cell_type": "code",
   "execution_count": 84,
   "metadata": {},
   "outputs": [
    {
     "name": "stderr",
     "output_type": "stream",
     "text": [
      "/tmp/ipykernel_25656/1078012762.py:5: UserWarning: \n",
      "\n",
      "`distplot` is a deprecated function and will be removed in seaborn v0.14.0.\n",
      "\n",
      "Please adapt your code to use either `displot` (a figure-level function with\n",
      "similar flexibility) or `kdeplot` (an axes-level function for kernel density plots).\n",
      "\n",
      "For a guide to updating your code to use the new functions, please see\n",
      "https://gist.github.com/mwaskom/de44147ed2974457ad6372750bbe5751\n",
      "\n",
      "  sns.distplot(random.normal(size=1000), hist=False)\n"
     ]
    },
    {
     "data": {
      "image/png": "[encoded data removed]",
      "text/plain": [
       "<Figure size 640x480 with 1 Axes>"
      ]
     },
     "metadata": {},
     "output_type": "display_data"
    }
   ],
   "source": [
    "from numpy import random\n",
    "import matplotlib.pyplot as plt\n",
    "import seaborn as sns\n",
    "\n",
    "sns.distplot(random.normal(size=1000), hist=False)\n",
    "\n",
    "plt.show() "
   ]
  },
  {
   "cell_type": "code",
   "execution_count": 85,
   "metadata": {},
   "outputs": [],
   "source": [
    "import matplotlib.pyplot as plt \n",
    "import seaborn as sns"
   ]
  },
  {
   "cell_type": "code",
   "execution_count": 86,
   "metadata": {},
   "outputs": [
    {
     "name": "stdout",
     "output_type": "stream",
     "text": [
      "[1 2 3]\n"
     ]
    }
   ],
   "source": [
    "import numpy as np\n",
    "array_from_list = np.array([1, 2, 3])\n",
    "print(array_from_list)\n",
    "# Output: [1 2 3]\n"
   ]
  },
  {
   "cell_type": "code",
   "execution_count": 87,
   "metadata": {},
   "outputs": [
    {
     "name": "stdout",
     "output_type": "stream",
     "text": [
      "[[0. 0. 0.]\n",
      " [0. 0. 0.]]\n"
     ]
    }
   ],
   "source": [
    "zeros_array = np.zeros((2, 3))\n",
    "print(zeros_array)\n",
    "# Output: [[0. 0. 0.]\n",
    "#          [0. 0. 0.]]\n"
   ]
  },
  {
   "cell_type": "code",
   "execution_count": 88,
   "metadata": {},
   "outputs": [
    {
     "name": "stdout",
     "output_type": "stream",
     "text": [
      "[[1. 1. 1.]\n",
      " [1. 1. 1.]]\n"
     ]
    }
   ],
   "source": [
    "ones_array = np.ones((2, 3))\n",
    "print(ones_array)\n",
    "# Output: [[1. 1. 1.]\n",
    "#          [1. 1. 1.]]\n"
   ]
  },
  {
   "cell_type": "code",
   "execution_count": 89,
   "metadata": {},
   "outputs": [
    {
     "name": "stdout",
     "output_type": "stream",
     "text": [
      "[[1. 1. 1.]\n",
      " [1. 1. 1.]]\n"
     ]
    }
   ],
   "source": [
    "ones_array = np.ones((2, 3))\n",
    "print(ones_array)\n",
    "# Output: [[1. 1. 1.]\n",
    "#          [1. 1. 1.]]\n"
   ]
  },
  {
   "cell_type": "code",
   "execution_count": 90,
   "metadata": {},
   "outputs": [
    {
     "name": "stdout",
     "output_type": "stream",
     "text": [
      "[[7 7 7]\n",
      " [7 7 7]]\n"
     ]
    }
   ],
   "source": [
    "full_array = np.full((2, 3), 7)\n",
    "print(full_array)\n",
    "# Output: [[7 7 7]\n",
    "#          [7 7 7]]\n"
   ]
  },
  {
   "cell_type": "code",
   "execution_count": 91,
   "metadata": {},
   "outputs": [
    {
     "name": "stdout",
     "output_type": "stream",
     "text": [
      "[[1. 0. 0.]\n",
      " [0. 1. 0.]\n",
      " [0. 0. 1.]]\n"
     ]
    }
   ],
   "source": [
    "eye_array = np.eye(3)\n",
    "print(eye_array)\n",
    "# Output: [[1. 0. 0.]\n",
    "#          [0. 1. 0.]\n",
    "#          [0. 0. 1.]]\n"
   ]
  },
  {
   "cell_type": "code",
   "execution_count": 92,
   "metadata": {},
   "outputs": [
    {
     "name": "stdout",
     "output_type": "stream",
     "text": [
      "[0 1 2 3 4]\n"
     ]
    }
   ],
   "source": [
    "arange_array = np.arange(5)\n",
    "print(arange_array)\n",
    "# Output: [0 1 2 3 4]\n"
   ]
  },
  {
   "cell_type": "code",
   "execution_count": 93,
   "metadata": {},
   "outputs": [
    {
     "name": "stdout",
     "output_type": "stream",
     "text": [
      "[0.   0.25 0.5  0.75 1.  ]\n"
     ]
    }
   ],
   "source": [
    "linspace_array = np.linspace(0, 1, 5)\n",
    "print(linspace_array)\n",
    "# Output: [0.   0.25 0.5  0.75 1.  ]\n"
   ]
  },
  {
   "cell_type": "code",
   "execution_count": null,
   "metadata": {},
   "outputs": [],
   "source": [
    "sum_value = np.sum(array1)\n",
    "print(sum_value)\n",
    "# Output: 6\n"
   ]
  },
  {
   "cell_type": "markdown",
   "metadata": {},
   "source": [
    "<h1><b>Pandas<b></h1>"
   ]
  },
  {
   "cell_type": "code",
   "execution_count": 114,
   "metadata": {},
   "outputs": [],
   "source": [
    "import pandas as pd\n",
    "import numpy as np\n",
    "\n",
    "# Creating a DataFrame from a dictionary\n",
    "data = {\n",
    "    'A': [1, 2, 3, 4],\n",
    "    'B': [5, 6, 7, 8],\n",
    "    'C': [9, 10, 11, 12]\n",
    "}"
   ]
  },
  {
   "cell_type": "code",
   "execution_count": 115,
   "metadata": {},
   "outputs": [],
   "source": [
    "df = pd.DataFrame(data)"
   ]
  },
  {
   "cell_type": "code",
   "execution_count": 113,
   "metadata": {},
   "outputs": [
    {
     "name": "stdout",
     "output_type": "stream",
     "text": [
      "\n",
      "DataFrame from array:\n",
      "     D   E   F\n",
      "0  13  14  15\n",
      "1  16  17  18\n",
      "2  19  20  21\n"
     ]
    }
   ],
   "source": [
    "# Creating a DataFrame from a NumPy array\n",
    "array_data = np.array([[13, 14, 15], [16, 17, 18], [19, 20, 21]])\n",
    "df_from_array = pd.DataFrame(array_data, columns=['D', 'E', 'F'])\n",
    "print(\"\\nDataFrame from array:\\n\", df_from_array)"
   ]
  },
  {
   "cell_type": "code",
   "execution_count": 98,
   "metadata": {},
   "outputs": [
    {
     "name": "stdout",
     "output_type": "stream",
     "text": [
      "\n",
      "Read from CSV:\n",
      "    A  B   C\n",
      "0  1  5   9\n",
      "1  2  6  10\n",
      "2  3  7  11\n",
      "3  4  8  12\n"
     ]
    }
   ],
   "source": [
    "# Reading and writing to CSV\n",
    "df.to_csv('data.csv', index=False)\n",
    "df_read = pd.read_csv('data.csv')\n",
    "print(\"\\nRead from CSV:\\n\", df_read)\n"
   ]
  },
  {
   "cell_type": "code",
   "execution_count": 99,
   "metadata": {},
   "outputs": [
    {
     "name": "stdout",
     "output_type": "stream",
     "text": [
      "\n",
      "Column A:\n",
      " 0    1\n",
      "1    2\n",
      "2    3\n",
      "3    4\n",
      "Name: A, dtype: int64\n",
      "Multiple Columns (A and B):\n",
      "    A  B\n",
      "0  1  5\n",
      "1  2  6\n",
      "2  3  7\n",
      "3  4  8\n"
     ]
    }
   ],
   "source": [
    "# Selecting columns\n",
    "print(\"\\nColumn A:\\n\", df['A'])\n",
    "print(\"Multiple Columns (A and B):\\n\", df[['A', 'B']])\n"
   ]
  },
  {
   "cell_type": "code",
   "execution_count": 100,
   "metadata": {},
   "outputs": [
    {
     "name": "stdout",
     "output_type": "stream",
     "text": [
      "\n",
      "Row 0 (using loc):\n",
      " A    1\n",
      "B    5\n",
      "C    9\n",
      "Name: 0, dtype: int64\n",
      "Row 0 (using iloc):\n",
      " A    1\n",
      "B    5\n",
      "C    9\n",
      "Name: 0, dtype: int64\n",
      "Rows 0 and 1 (using iloc):\n",
      "    A  B   C\n",
      "0  1  5   9\n",
      "1  2  6  10\n"
     ]
    }
   ],
   "source": [
    "# Selecting rows\n",
    "print(\"\\nRow 0 (using loc):\\n\", df.loc[0])\n",
    "print(\"Row 0 (using iloc):\\n\", df.iloc[0])\n",
    "print(\"Rows 0 and 1 (using iloc):\\n\", df.iloc[0:2])"
   ]
  },
  {
   "cell_type": "code",
   "execution_count": 101,
   "metadata": {},
   "outputs": [
    {
     "name": "stdout",
     "output_type": "stream",
     "text": [
      "\n",
      "DataFrame with new column D:\n",
      "    A  B   C   D\n",
      "0  1  5   9   6\n",
      "1  2  6  10   8\n",
      "2  3  7  11  10\n",
      "3  4  8  12  12\n",
      "DataFrame after dropping column D:\n",
      "    A  B   C\n",
      "0  1  5   9\n",
      "1  2  6  10\n",
      "2  3  7  11\n",
      "3  4  8  12\n"
     ]
    }
   ],
   "source": [
    "# Adding and dropping columns\n",
    "df['D'] = df['A'] + df['B']\n",
    "print(\"\\nDataFrame with new column D:\\n\", df)\n",
    "df = df.drop('D', axis=1)\n",
    "print(\"DataFrame after dropping column D:\\n\", df)"
   ]
  },
  {
   "cell_type": "code",
   "execution_count": 102,
   "metadata": {},
   "outputs": [
    {
     "name": "stdout",
     "output_type": "stream",
     "text": [
      "\n",
      "DataFrame with NaN:\n",
      "      A  B   C\n",
      "0  1.0  5   9\n",
      "1  NaN  6  10\n",
      "2  3.0  7  11\n",
      "3  4.0  8  12\n",
      "Filled NaN with 0:\n",
      "      A  B   C\n",
      "0  1.0  5   9\n",
      "1  0.0  6  10\n",
      "2  3.0  7  11\n",
      "3  4.0  8  12\n",
      "Dropped rows with NaN:\n",
      "      A  B   C\n",
      "0  1.0  5   9\n",
      "2  3.0  7  11\n",
      "3  4.0  8  12\n"
     ]
    }
   ],
   "source": [
    "# Handling missing values\n",
    "df_with_nan = df.copy()\n",
    "df_with_nan.loc[1, 'A'] = np.nan\n",
    "print(\"\\nDataFrame with NaN:\\n\", df_with_nan)\n",
    "df_filled = df_with_nan.fillna(0)\n",
    "print(\"Filled NaN with 0:\\n\", df_filled)\n",
    "df_dropped = df_with_nan.dropna()\n",
    "print(\"Dropped rows with NaN:\\n\", df_dropped)"
   ]
  },
  {
   "cell_type": "code",
   "execution_count": 103,
   "metadata": {},
   "outputs": [
    {
     "name": "stdout",
     "output_type": "stream",
     "text": [
      "\n",
      "Merged DataFrame (inner join):\n",
      "   key  value_x  value_y\n",
      "0   B        2        4\n",
      "1   C        3        5\n"
     ]
    }
   ],
   "source": [
    "df1 = pd.DataFrame({'key': ['A', 'B', 'C'], 'value': [1, 2, 3]})\n",
    "df2 = pd.DataFrame({'key': ['B', 'C', 'D'], 'value': [4, 5, 6]})\n",
    "merged = pd.merge(df1, df2, on='key', how='inner')\n",
    "print(\"\\nMerged DataFrame (inner join):\\n\", merged)"
   ]
  },
  {
   "cell_type": "code",
   "execution_count": 104,
   "metadata": {},
   "outputs": [
    {
     "name": "stdout",
     "output_type": "stream",
     "text": [
      "\n",
      "Concatenated DataFrame:\n",
      "   key  value\n",
      "0   A      1\n",
      "1   B      2\n",
      "2   C      3\n",
      "0   B      4\n",
      "1   C      5\n",
      "2   D      6\n"
     ]
    }
   ],
   "source": [
    "concatenated = pd.concat([df1, df2], axis=0)\n",
    "print(\"\\nConcatenated DataFrame:\\n\", concatenated)"
   ]
  },
  {
   "cell_type": "code",
   "execution_count": 105,
   "metadata": {},
   "outputs": [
    {
     "name": "stdout",
     "output_type": "stream",
     "text": [
      "\n",
      "Pivot Table:\n",
      " B    one  two\n",
      "A            \n",
      "bar  3.0  4.0\n",
      "foo  1.0  2.0\n"
     ]
    }
   ],
   "source": [
    "# Pivot Table\n",
    "pivot_data = {\n",
    "    'A': ['foo', 'foo', 'bar', 'bar'],\n",
    "    'B': ['one', 'two', 'one', 'two'],\n",
    "    'C': [1, 2, 3, 4]\n",
    "}\n",
    "df_pivot = pd.DataFrame(pivot_data)\n",
    "pivot_table = df_pivot.pivot_table(values='C', index='A', columns='B')\n",
    "print(\"\\nPivot Table:\\n\", pivot_table)"
   ]
  },
  {
   "cell_type": "code",
   "execution_count": 107,
   "metadata": {},
   "outputs": [
    {
     "name": "stdout",
     "output_type": "stream",
     "text": [
      "  Category Type  Value\n",
      "0        A    X     10\n",
      "1        A    Y     15\n",
      "2        B    X     10\n",
      "3        B    Y     20\n",
      "4        C    X     15\n",
      "5        C    Y     10\n"
     ]
    }
   ],
   "source": [
    "import pandas as pd\n",
    "\n",
    "data = {\n",
    "    'Category': ['A', 'A', 'B', 'B', 'C', 'C'],\n",
    "    'Type': ['X', 'Y', 'X', 'Y', 'X', 'Y'],\n",
    "    'Value': [10, 15, 10, 20, 15, 10]\n",
    "}\n",
    "df = pd.DataFrame(data)\n",
    "print(df)\n"
   ]
  },
  {
   "cell_type": "code",
   "execution_count": 111,
   "metadata": {},
   "outputs": [
    {
     "name": "stdout",
     "output_type": "stream",
     "text": [
      "          Value\n",
      "Category       \n",
      "A          12.5\n",
      "B          15.0\n",
      "C          12.5\n"
     ]
    }
   ],
   "source": [
    "pivot_table = df.pivot_table(values='Value', index='Category',aggfunc=\"mean\")\n",
    "print(pivot_table)"
   ]
  },
  {
   "cell_type": "code",
   "execution_count": 123,
   "metadata": {},
   "outputs": [],
   "source": [
    "sorted_df = df.sort_values(by='B', ascending=True)"
   ]
  },
  {
   "cell_type": "code",
   "execution_count": 124,
   "metadata": {},
   "outputs": [
    {
     "name": "stdout",
     "output_type": "stream",
     "text": [
      "   A  B   C\n",
      "0  1  5   9\n",
      "1  2  6  10\n",
      "2  3  7  11\n",
      "3  4  8  12\n"
     ]
    }
   ],
   "source": [
    "print(sorted_df)"
   ]
  },
  {
   "cell_type": "code",
   "execution_count": 125,
   "metadata": {},
   "outputs": [
    {
     "name": "stdout",
     "output_type": "stream",
     "text": [
      "\n",
      "DataFrame after applying lambda function:\n",
      "    A  B   C   E\n",
      "0  1  5   9   1\n",
      "1  2  6  10   4\n",
      "2  3  7  11   9\n",
      "3  4  8  12  16\n"
     ]
    }
   ],
   "source": [
    "# Applying Functions\n",
    "df['E'] = df['A'].apply(lambda x: x**2)\n",
    "print(\"\\nDataFrame after applying lambda function:\\n\", df)\n"
   ]
  },
  {
   "cell_type": "code",
   "execution_count": 126,
   "metadata": {},
   "outputs": [
    {
     "name": "stdout",
     "output_type": "stream",
     "text": [
      "\n",
      "DataFrame after resetting index:\n",
      "    A  B   C   E\n",
      "0  1  5   9   1\n",
      "1  2  6  10   4\n",
      "2  3  7  11   9\n",
      "3  4  8  12  16\n"
     ]
    }
   ],
   "source": [
    "df_reset = df.reset_index(drop=True)\n",
    "print(\"\\nDataFrame after resetting index:\\n\", df_reset)"
   ]
  },
  {
   "cell_type": "markdown",
   "metadata": {},
   "source": [
    "<h1><b>Theoratical</b></h1>"
   ]
  },
  {
   "cell_type": "markdown",
   "metadata": {},
   "source": [
    "Sure, let's break down each section of your request and walk through the concepts.\n",
    "a. Python Style Guide (PEP 8)\n",
    "\n",
    "PEP 8 is the Python Enhancement Proposal that provides guidelines and best practices on how to write Python code. The goal of PEP 8 is to improve the readability and consistency of Python code. Key guidelines include:\n",
    "\n",
    "    Indentation: Use 4 spaces per indentation level.\n",
    "    Line Length: Limit all lines to a maximum of 79 characters.\n",
    "    Blank Lines: Use blank lines to separate functions and classes, and larger blocks of code inside functions.\n",
    "    Imports: Imports should usually be on separate lines.\n",
    "    Whitespace: Avoid extraneous whitespace in the following situations: immediately inside parentheses, brackets, or braces; immediately before a comma, semicolon, or colon; and immediately before the open parenthesis that starts the argument list of a function call."
   ]
  },
  {
   "cell_type": "markdown",
   "metadata": {},
   "source": [
    "b. What is a Linter?\n",
    "\n",
    "A linter is a tool that analyzes source code to flag programming errors, bugs, stylistic errors, and suspicious constructs. Linters can help you identify issues in your code that could lead to errors, as well as ensure your code adheres to certain style guidelines. Examples of Python linters include:\n",
    "\n",
    "    Pylint\n",
    "    Flake8\n",
    "    Pyflakes\n",
    "\n",
    "Linters can detect various issues, such as:\n",
    "\n",
    "    Use of an uninitialized or undefined variable.\n",
    "    Calls to undefined functions.\n",
    "    Missing parentheses.\n",
    "    Redefinition of built-in types or functions."
   ]
  },
  {
   "cell_type": "markdown",
   "metadata": {},
   "source": [
    "c. What is a Formatter?\n",
    "\n",
    "A formatter is a tool that automatically reformats code to adhere to a specific style guide. This can include fixing indentation, line length, spacing, and other stylistic elements of the code. Formatters ensure that code looks consistent and adheres to the conventions of the style guide. Examples of Python formatters include:\n",
    "\n",
    "    Black: A highly opinionated formatter that formats Python code to look the same regardless of how it was originally written.\n",
    "    YAPF (Yet Another Python Formatter): Developed by Google, it reformats code to the best format that conforms to the style guide."
   ]
  },
  {
   "cell_type": "markdown",
   "metadata": {},
   "source": [
    "d. Difference Between Linter and Formatter\n",
    "\n",
    "    Linter: Analyzes code for syntactical and stylistic errors, helps identify potential bugs and violations of coding standards.\n",
    "    Formatter: Automatically reformats code to conform to a style guide, ensuring consistent code style."
   ]
  },
  {
   "cell_type": "markdown",
   "metadata": {},
   "source": [
    "<h1><b>Detailed Walkthrough of \"Python Code Quality: Tools & Best Practices\" Article</b></h1>"
   ]
  },
  {
   "cell_type": "markdown",
   "metadata": {},
   "source": [
    "Introduction:\n",
    "\n",
    "    The article introduces the concept of code quality and why it is important.\n",
    "    It mentions that Python, being a dynamic language, benefits significantly from using tools that enforce code quality.\n",
    "\n",
    "Static Analysis Tools:\n",
    "\n",
    "    The section explains how static analysis tools, like linters, analyze code without executing it.\n",
    "    Examples include Pylint and Flake8.\n",
    "    It highlights how these tools can catch potential issues early in the development process.\n",
    "\n",
    "Code Formatting Tools:\n",
    "\n",
    "    Discusses the role of formatters in maintaining a consistent code style.\n",
    "    Mentions tools like Black and YAPF.\n",
    "    Emphasizes that consistent formatting makes code easier to read and maintain.\n",
    "\n",
    "Code Complexity Tools:\n",
    "\n",
    "    Introduces tools that measure code complexity, such as Radon.\n",
    "    Explains how high complexity can make code harder to understand and maintain.\n",
    "    Suggests that reducing complexity can lead to more readable and maintainable code.\n",
    "\n",
    "Testing Tools:\n",
    "\n",
    "    Highlights the importance of testing in ensuring code behaves as expected.\n",
    "    Mentions tools and frameworks for testing, such as unittest, pytest, and doctest.\n",
    "    Encourages writing tests as part of the development process to catch issues early.\n",
    "\n",
    "Integrating Tools:\n",
    "\n",
    "    Discusses how to integrate these tools into your development workflow.\n",
    "    Examples include integrating with text editors, IDEs, and continuous integration systems.\n",
    "    Provides tips on setting up a robust development environment that incorporates these tools.\n",
    "\n",
    "Conclusion:\n",
    "\n",
    "    Summarizes the benefits of using code quality tools.\n",
    "    Encourages developers to adopt these practices to improve the overall quality of their code."
   ]
  },
  {
   "cell_type": "code",
   "execution_count": 131,
   "metadata": {},
   "outputs": [],
   "source": [
    "import time \n",
    "\n",
    "def square(nums):\n",
    "    if nums !=None:\n",
    "\n",
    "        for i in nums:\n",
    "           time.sleep(0.2)\n",
    "           print(\"square is :\",i*i)\n",
    "def cube(nums):\n",
    "    if nums != None:\n",
    "        for i in nums:\n",
    "            time.sleep(0.2)\n",
    "            print(\"Cube is :\",i*i*i)\n",
    "               \n"
   ]
  },
  {
   "cell_type": "code",
   "execution_count": 132,
   "metadata": {},
   "outputs": [
    {
     "name": "stdout",
     "output_type": "stream",
     "text": [
      "square is : 1\n",
      "square is : 4\n",
      "square is : 9\n",
      "square is : 16\n",
      "square is : 25\n",
      "Cube is : 1\n",
      "Cube is : 8\n",
      "Cube is : 27\n",
      "Cube is : 64\n",
      "Cube is : 125\n"
     ]
    }
   ],
   "source": [
    "nums=[1,2,3,4,5]\n",
    "square(nums)\n",
    "cube(nums)"
   ]
  },
  {
   "cell_type": "markdown",
   "metadata": {},
   "source": [
    "Now using multi threading "
   ]
  },
  {
   "cell_type": "code",
   "execution_count": 135,
   "metadata": {},
   "outputs": [],
   "source": [
    "import threading\n",
    "t1=threading.Thread(target=square,args=(nums,))\n",
    "t2=threading.Thread(target=cube,args=(nums,))"
   ]
  },
  {
   "cell_type": "code",
   "execution_count": null,
   "metadata": {},
   "outputs": [],
   "source": [
    "t1.start()\n",
    "t2.start()\n",
    "t1.join()\n",
    "t2.join()\n"
   ]
  }
 ],
 "metadata": {
  "kernelspec": {
   "display_name": "training",
   "language": "python",
   "name": "python3"
  },
  "language_info": {
   "codemirror_mode": {
    "name": "ipython",
    "version": 3
   },
   "file_extension": ".py",
   "mimetype": "text/x-python",
   "name": "python",
   "nbconvert_exporter": "python",
   "pygments_lexer": "ipython3",
   "version": "3.10.14"
  }
 },
 "nbformat": 4,
 "nbformat_minor": 2
}
