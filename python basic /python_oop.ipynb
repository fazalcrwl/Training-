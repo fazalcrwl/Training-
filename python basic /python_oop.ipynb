{
 "cells": [
  {
   "cell_type": "markdown",
   "metadata": {},
   "source": [
    "def _init \n",
    "def __len \n",
    "........\n",
    "they are called magic methods \n"
   ]
  },
  {
   "cell_type": "markdown",
   "metadata": {},
   "source": []
  },
  {
   "cell_type": "code",
   "execution_count": 117,
   "metadata": {},
   "outputs": [],
   "source": [
    "import csv \n",
    "\n",
    "# it was all instance attribute to work on all the attributes were intilaized for instance taht will be created \n",
    "# will be use for it \n",
    "class Item():\n",
    "    all=[] # all will be the varaibel which will have all the instances from the class\n",
    "    pay_rate=.8 #class level attribute \n",
    "    def __init__(self, name: str , cost:int, quantity:int):\n",
    "        assert cost>0\n",
    "        assert quantity>0\n",
    "        self.name=name\n",
    "        self.cost=cost\n",
    "        self.quantity= quantity\n",
    "        self.all.append(self)\n",
    "    \n",
    "    def __repr__(self):\n",
    "        return f\"Item('{self.name}',{self.cost},{self.quantity}) \"\n",
    "    \n",
    "    def calculate(self):\n",
    "        return self.cost * self.quantity\n",
    "    \n",
    "\n",
    "\n",
    "    def apply_disc(self):\n",
    "        self.price =self.cost * self.pay_rate # for acessing the pay rate \n",
    "        # we have to give intsance from class level it will search the class level then \n",
    "    \n",
    "    #class method act as passing class as argument \n",
    "    #1. in this below function the it is read data from csv \n",
    "    #2.after reading from csv and converting to dictoniaries\n",
    "    #3.  it is reading from dictionaries when passing args in item constructor and saving it in the object the repr function \n",
    "    #       just like contsructor will call itself and convert the object into the string then from object string in constructor \n",
    "    #       we are saving in self.all.append () its a class variable so self method will look for the all variable first in object instance \n",
    "    #       when not finding the var it will look automatically into the class variables then append it in the list\n",
    "    @classmethod\n",
    "    def read_csv(cls):\n",
    "        with open('data.csv','r') as f:\n",
    "            reader=csv.DictReader(f)\n",
    "            items=list(reader)\n",
    "\n",
    "            print(items)\n",
    "        for i in items:\n",
    "           print(i.get('name'))\n",
    "           Item(name=str(i.get('name')),cost=int(i.get('cost')),quantity=int(i.get('quantity')))\n",
    "           \n",
    "\n",
    "\n",
    "  "
   ]
  },
  {
   "cell_type": "code",
   "execution_count": 118,
   "metadata": {},
   "outputs": [],
   "source": [
    " # The Python repr() built-in function returns the printable representation of the specified object as a string.\n",
    "    #def __repr__(self):\n",
    "    #    return f\"Item is('{self.name}',{self.cost},{self.pay_rate}) \"\n"
   ]
  },
  {
   "cell_type": "code",
   "execution_count": 124,
   "metadata": {},
   "outputs": [
    {
     "data": {
      "text/plain": [
       "[Item('laptop',12,3) , Item('phone',10,2) ]"
      ]
     },
     "execution_count": 124,
     "metadata": {},
     "output_type": "execute_result"
    }
   ],
   "source": [
    "Item.all\n",
    "\n"
   ]
  },
  {
   "cell_type": "code",
   "execution_count": 14,
   "metadata": {},
   "outputs": [
    {
     "name": "stdout",
     "output_type": "stream",
     "text": [
      "{'name': 'phone', 'cost': 120, 'quantity': 2}\n",
      "{'__module__': '__main__', 'pay_rate': 0.8, '__init__': <function Item.__init__ at 0x791047cb8ca0>, 'calculate': <function Item.calculate at 0x791047cb8c10>, '__dict__': <attribute '__dict__' of 'Item' objects>, '__weakref__': <attribute '__weakref__' of 'Item' objects>, '__doc__': None}\n"
     ]
    }
   ],
   "source": [
    "#using dict method to acess all the attribute from it \n",
    "print(item1.__dict__)#instance level attribute \n",
    "print(Item.__dict__)# class level attributes"
   ]
  },
  {
   "cell_type": "code",
   "execution_count": 120,
   "metadata": {},
   "outputs": [
    {
     "name": "stdout",
     "output_type": "stream",
     "text": [
      "[{'name': 'laptop', 'cost': '12', 'quantity': ' 3 '}, {'name': 'phone', 'cost': '10', 'quantity': ' 2'}]\n",
      "laptop\n",
      "phone\n"
     ]
    }
   ],
   "source": [
    "Item.read_csv()"
   ]
  },
  {
   "cell_type": "code",
   "execution_count": 122,
   "metadata": {},
   "outputs": [],
   "source": [
    "item1=Item.all[0]"
   ]
  },
  {
   "cell_type": "code",
   "execution_count": 123,
   "metadata": {},
   "outputs": [
    {
     "data": {
      "text/plain": [
       "Item('laptop',12,3) "
      ]
     },
     "execution_count": 123,
     "metadata": {},
     "output_type": "execute_result"
    }
   ],
   "source": [
    "item1"
   ]
  },
  {
   "cell_type": "markdown",
   "metadata": {},
   "source": [
    "Static Method "
   ]
  },
  {
   "cell_type": "code",
   "execution_count": 138,
   "metadata": {},
   "outputs": [],
   "source": [
    "class Item():\n",
    "    all=[] # all will be the varaibel which will have all the instances from the class\n",
    "    pay_rate=.8 #class level attribute \n",
    "    def __init__(self, name: str , cost:int, quantity:int):\n",
    "        assert cost>0\n",
    "        assert quantity>0\n",
    "        self.name=name\n",
    "        self.cost=cost\n",
    "        self.quantity= quantity\n",
    "        self.all.append(self)\n",
    "    \n",
    "    def __repr__(self):\n",
    "        return f\"Item('{self.name}',{self.cost},{self.quantity}) \"\n",
    "    \n",
    "    def calculate(self):\n",
    "        return self.cost * self.quantity\n",
    "    \n",
    "\n",
    "\n",
    "    def apply_disc(self):\n",
    "        self.price =self.cost * self.pay_rate # for acessing the pay rate \n",
    "        # we have to give intsance from class level it will search the class level then \n",
    "\n",
    "\n",
    "    @staticmethod\n",
    "    def is_iidnteger(num):\n",
    "        if isinstance(num,float):\n",
    "            return num.is_integer()\n",
    "        elif isinstance(num,int):\n",
    "            return True\n",
    "        else:\n",
    "            return False\n",
    "        \n",
    "    #another example of static  \n",
    "    #you can use static method and call the function with oject and with class too there is no need to connect class and object same as normal function but there is some relationship with the class\n",
    "    @staticmethod\n",
    "    def add(x,y):\n",
    "        return x+y\n"
   ]
  },
  {
   "cell_type": "code",
   "execution_count": 139,
   "metadata": {},
   "outputs": [
    {
     "data": {
      "text/plain": [
       "3"
      ]
     },
     "execution_count": 139,
     "metadata": {},
     "output_type": "execute_result"
    }
   ],
   "source": [
    "Item.add(1,2)\n"
   ]
  },
  {
   "cell_type": "markdown",
   "metadata": {},
   "source": [
    "Inheritence"
   ]
  },
  {
   "cell_type": "code",
   "execution_count": 149,
   "metadata": {},
   "outputs": [],
   "source": [
    "class Item():\n",
    "    all=[] # all will be the varaibel which will have all the instances from the class\n",
    "    pay_rate=.8 #class level attribute \n",
    "    def __init__(self, name: str , cost:int, quantity:int):\n",
    "        assert cost>0\n",
    "        assert quantity>0\n",
    "        self.name=name\n",
    "        self.cost=cost\n",
    "        self.quantity= quantity\n",
    "        self.all.append(self)\n",
    "    \n",
    "    #read only name it wil act as read only only one time read\n",
    "    @property\n",
    "    def read_only_name(self):\n",
    "        return \"AAA\"\n",
    "\n",
    "\n",
    "\n",
    "    def __repr__(self):\n",
    "        return f\"{self.__class__.__name__}('{self.name}',{self.cost},{self.quantity}) \"\n",
    "    \n",
    "    def calculate(self):\n",
    "        return self.cost * self.quantity\n",
    "    \n",
    "\n",
    "\n",
    "    def apply_disc(self):\n",
    "         return self.cost * self.pay_rate \n",
    "        \n",
    "        # for acessing the pay rate \n",
    "        # we have to give intsance from class level it will search the class level then \n"
   ]
  },
  {
   "cell_type": "code",
   "execution_count": 144,
   "metadata": {},
   "outputs": [],
   "source": [
    "class Phone(Item):\n",
    "    \n",
    "    def __init__(self, name: str, cost: int, quantity: int,broken :int):\n",
    "        super().__init__(name, cost, quantity)\n",
    "        self.broken=broken\n",
    "        \n",
    "        "
   ]
  },
  {
   "cell_type": "code",
   "execution_count": 145,
   "metadata": {},
   "outputs": [
    {
     "name": "stdout",
     "output_type": "stream",
     "text": [
      "400.0\n"
     ]
    }
   ],
   "source": [
    "phone1=Phone(\"nokia\",500,5,1)\n",
    "print(phone1.apply_disc())"
   ]
  },
  {
   "cell_type": "code",
   "execution_count": 146,
   "metadata": {},
   "outputs": [
    {
     "name": "stdout",
     "output_type": "stream",
     "text": [
      "[Phone('nokia',500,5) ]\n"
     ]
    }
   ],
   "source": [
    "print(Phone.all)"
   ]
  },
  {
   "cell_type": "code",
   "execution_count": 147,
   "metadata": {},
   "outputs": [],
   "source": [
    "item1=Item(\"laptop\",240,4)"
   ]
  },
  {
   "cell_type": "code",
   "execution_count": 148,
   "metadata": {},
   "outputs": [
    {
     "name": "stdout",
     "output_type": "stream",
     "text": [
      "[Phone('nokia',500,5) , Item('laptop',240,4) ]\n"
     ]
    }
   ],
   "source": [
    "print(Item.all)"
   ]
  },
  {
   "cell_type": "markdown",
   "metadata": {},
   "source": [
    "getter and setter method "
   ]
  },
  {
   "cell_type": "code",
   "execution_count": 155,
   "metadata": {},
   "outputs": [],
   "source": [
    "class Item():\n",
    "    all=[] # all will be the varaibel which will have all the instances from the class\n",
    "    pay_rate=.8 #class level attribute \n",
    "    def __init__(self, name: str , cost:int, quantity:int):\n",
    "        assert cost>0\n",
    "        assert quantity>0\n",
    "        self._name=name\n",
    "        self.cost=cost\n",
    "        self.quantity= quantity\n",
    "        self.all.append(self)\n",
    "    \n",
    "    #read only name it wil act as read only only one time read\n",
    "    @property\n",
    "    def read_only_name(self):\n",
    "        return \"AAA\"\n",
    "    \n",
    "    @property\n",
    "    def name(self):\n",
    "        return self._name \n",
    "\n",
    "\n",
    "    def __repr__(self):\n",
    "        return f\"{self.__class__.__name__}('{self.name}',{self.cost},{self.quantity}) \"\n",
    "    \n",
    "    def calculate(self):\n",
    "        return self.cost * self.quantity\n",
    "    \n",
    "\n",
    "\n",
    "    def apply_disc(self):\n",
    "         return self.cost * self.pay_rate \n",
    "        \n",
    "        # for acessing the pay rate \n",
    "        # we have to give intsance from class level it will search the class level then \n"
   ]
  },
  {
   "cell_type": "code",
   "execution_count": 156,
   "metadata": {},
   "outputs": [],
   "source": [
    "item1=Item(\"nokia\",21,2)"
   ]
  },
  {
   "cell_type": "code",
   "execution_count": 158,
   "metadata": {},
   "outputs": [
    {
     "ename": "AttributeError",
     "evalue": "can't set attribute 'name'",
     "output_type": "error",
     "traceback": [
      "\u001b[0;31m---------------------------------------------------------------------------\u001b[0m",
      "\u001b[0;31mAttributeError\u001b[0m                            Traceback (most recent call last)",
      "Cell \u001b[0;32mIn[158], line 1\u001b[0m\n\u001b[0;32m----> 1\u001b[0m \u001b[43mitem1\u001b[49m\u001b[38;5;241;43m.\u001b[39;49m\u001b[43mname\u001b[49m\u001b[38;5;241m=\u001b[39m\u001b[38;5;124m\"\u001b[39m\u001b[38;5;124mali\u001b[39m\u001b[38;5;124m\"\u001b[39m\n",
      "\u001b[0;31mAttributeError\u001b[0m: can't set attribute 'name'"
     ]
    }
   ],
   "source": [
    "#by using these we have kind of private data type just link ein c++ it can only be read \n",
    "#@property making it private \n",
    "\n",
    "item1.name=\"ali\""
   ]
  },
  {
   "cell_type": "code",
   "execution_count": null,
   "metadata": {},
   "outputs": [],
   "source": []
  }
 ],
 "metadata": {
  "kernelspec": {
   "display_name": "training",
   "language": "python",
   "name": "python3"
  },
  "language_info": {
   "codemirror_mode": {
    "name": "ipython",
    "version": 3
   },
   "file_extension": ".py",
   "mimetype": "text/x-python",
   "name": "python",
   "nbconvert_exporter": "python",
   "pygments_lexer": "ipython3",
   "version": "3.10.14"
  }
 },
 "nbformat": 4,
 "nbformat_minor": 2
}
