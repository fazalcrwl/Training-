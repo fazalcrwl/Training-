{
 "cells": [
  {
   "cell_type": "markdown",
   "metadata": {},
   "source": [
    "def _init \n",
    "def __len \n",
    "........\n",
    "they are called magic methods \n"
   ]
  },
  {
   "cell_type": "markdown",
   "metadata": {},
   "source": []
  },
  {
   "cell_type": "code",
   "execution_count": 117,
   "metadata": {},
   "outputs": [],
   "source": [
    "import csv \n",
    "\n",
    "# it was all instance attribute to work on all the attributes were intilaized for instance taht will be created \n",
    "# will be use for it \n",
    "class Item():\n",
    "    all=[] # all will be the varaibel which will have all the instances from the class\n",
    "    pay_rate=.8 #class level attribute \n",
    "    def __init__(self, name: str , cost:int, quantity:int):\n",
    "        assert cost>0\n",
    "        assert quantity>0\n",
    "        self.name=name\n",
    "        self.cost=cost\n",
    "        self.quantity= quantity\n",
    "        self.all.append(self)\n",
    "    \n",
    "    def __repr__(self):\n",
    "        return f\"Item('{self.name}',{self.cost},{self.quantity}) \"\n",
    "    \n",
    "    def calculate(self):\n",
    "        return self.cost * self.quantity\n",
    "    \n",
    "\n",
    "\n",
    "    def apply_disc(self):\n",
    "        self.price =self.cost * self.pay_rate # for acessing the pay rate \n",
    "        # we have to give intsance from class level it will search the class level then \n",
    "    \n",
    "    #class method act as passing class as argument \n",
    "    #1. in this below function the it is read data from csv \n",
    "    #2.after reading from csv and converting to dictoniaries\n",
    "    #3.  it is reading from dictionaries when passing args in item constructor and saving it in the object the repr function \n",
    "    #       just like contsructor will call itself and convert the object into the string then from object string in constructor \n",
    "    #       we are saving in self.all.append () its a class variable so self method will look for the all variable first in object instance \n",
    "    #       when not finding the var it will look automatically into the class variables then append it in the list\n",
    "    @classmethod\n",
    "    def read_csv(cls):\n",
    "        with open('data.csv','r') as f:\n",
    "            reader=csv.DictReader(f)\n",
    "            items=list(reader)\n",
    "\n",
    "            print(items)\n",
    "        for i in items:\n",
    "           print(i.get('name'))\n",
    "           Item(name=str(i.get('name')),cost=int(i.get('cost')),quantity=int(i.get('quantity')))\n",
    "           \n",
    "\n",
    "\n",
    "  "
   ]
  },
  {
   "cell_type": "code",
   "execution_count": 118,
   "metadata": {},
   "outputs": [],
   "source": [
    " # The Python repr() built-in function returns the printable representation of the specified object as a string.\n",
    "    #def __repr__(self):\n",
    "    #    return f\"Item is('{self.name}',{self.cost},{self.pay_rate}) \"\n"
   ]
  },
  {
   "cell_type": "code",
   "execution_count": 124,
   "metadata": {},
   "outputs": [
    {
     "data": {
      "text/plain": [
       "[Item('laptop',12,3) , Item('phone',10,2) ]"
      ]
     },
     "execution_count": 124,
     "metadata": {},
     "output_type": "execute_result"
    }
   ],
   "source": [
    "Item.all\n",
    "\n"
   ]
  },
  {
   "cell_type": "code",
   "execution_count": 14,
   "metadata": {},
   "outputs": [
    {
     "name": "stdout",
     "output_type": "stream",
     "text": [
      "{'name': 'phone', 'cost': 120, 'quantity': 2}\n",
      "{'__module__': '__main__', 'pay_rate': 0.8, '__init__': <function Item.__init__ at 0x791047cb8ca0>, 'calculate': <function Item.calculate at 0x791047cb8c10>, '__dict__': <attribute '__dict__' of 'Item' objects>, '__weakref__': <attribute '__weakref__' of 'Item' objects>, '__doc__': None}\n"
     ]
    }
   ],
   "source": [
    "#using dict method to acess all the attribute from it \n",
    "print(item1.__dict__)#instance level attribute \n",
    "print(Item.__dict__)# class level attributes"
   ]
  },
  {
   "cell_type": "code",
   "execution_count": 120,
   "metadata": {},
   "outputs": [
    {
     "name": "stdout",
     "output_type": "stream",
     "text": [
      "[{'name': 'laptop', 'cost': '12', 'quantity': ' 3 '}, {'name': 'phone', 'cost': '10', 'quantity': ' 2'}]\n",
      "laptop\n",
      "phone\n"
     ]
    }
   ],
   "source": [
    "Item.read_csv()"
   ]
  },
  {
   "cell_type": "code",
   "execution_count": 122,
   "metadata": {},
   "outputs": [],
   "source": [
    "item1=Item.all[0]"
   ]
  },
  {
   "cell_type": "code",
   "execution_count": 123,
   "metadata": {},
   "outputs": [
    {
     "data": {
      "text/plain": [
       "Item('laptop',12,3) "
      ]
     },
     "execution_count": 123,
     "metadata": {},
     "output_type": "execute_result"
    }
   ],
   "source": [
    "item1"
   ]
  },
  {
   "cell_type": "markdown",
   "metadata": {},
   "source": [
    "Static Method "
   ]
  },
  {
   "cell_type": "code",
   "execution_count": 138,
   "metadata": {},
   "outputs": [],
   "source": [
    "class Item():\n",
    "    all=[] # all will be the varaibel which will have all the instances from the class\n",
    "    pay_rate=.8 #class level attribute \n",
    "    def __init__(self, name: str , cost:int, quantity:int):\n",
    "        assert cost>0\n",
    "        assert quantity>0\n",
    "        self.name=name\n",
    "        self.cost=cost\n",
    "        self.quantity= quantity\n",
    "        self.all.append(self)\n",
    "    \n",
    "    def __repr__(self):\n",
    "        return f\"Item('{self.name}',{self.cost},{self.quantity}) \"\n",
    "    \n",
    "    def calculate(self):\n",
    "        return self.cost * self.quantity\n",
    "    \n",
    "\n",
    "\n",
    "    def apply_disc(self):\n",
    "        self.price =self.cost * self.pay_rate # for acessing the pay rate \n",
    "        # we have to give intsance from class level it will search the class level then \n",
    "\n",
    "\n",
    "    @staticmethod\n",
    "    def is_iidnteger(num):\n",
    "        if isinstance(num,float):\n",
    "            return num.is_integer()\n",
    "        elif isinstance(num,int):\n",
    "            return True\n",
    "        else:\n",
    "            return False\n",
    "        \n",
    "    #another example of static  \n",
    "    #you can use static method and call the function with oject and with class too there is no need to connect class and object same as normal function but there is some relationship with the class\n",
    "    @staticmethod\n",
    "    def add(x,y):\n",
    "        return x+y\n"
   ]
  },
  {
   "cell_type": "code",
   "execution_count": 139,
   "metadata": {},
   "outputs": [
    {
     "data": {
      "text/plain": [
       "3"
      ]
     },
     "execution_count": 139,
     "metadata": {},
     "output_type": "execute_result"
    }
   ],
   "source": [
    "Item.add(1,2)\n"
   ]
  },
  {
   "cell_type": "markdown",
   "metadata": {},
   "source": [
    "Inheritence"
   ]
  },
  {
   "cell_type": "code",
   "execution_count": 149,
   "metadata": {},
   "outputs": [],
   "source": [
    "class Item():\n",
    "    all=[] # all will be the varaibel which will have all the instances from the class\n",
    "    pay_rate=.8 #class level attribute \n",
    "    def __init__(self, name: str , cost:int, quantity:int):\n",
    "        assert cost>0\n",
    "        assert quantity>0\n",
    "        self.name=name\n",
    "        self.cost=cost\n",
    "        self.quantity= quantity\n",
    "        self.all.append(self)\n",
    "    \n",
    "    #read only name it wil act as read only only one time read\n",
    "    @property\n",
    "    def read_only_name(self):\n",
    "        return \"AAA\"\n",
    "\n",
    "\n",
    "\n",
    "    def __repr__(self):\n",
    "        return f\"{self.__class__.__name__}('{self.name}',{self.cost},{self.quantity}) \"\n",
    "    \n",
    "    def calculate(self):\n",
    "        return self.cost * self.quantity\n",
    "    \n",
    "\n",
    "\n",
    "    def apply_disc(self):\n",
    "         return self.cost * self.pay_rate \n",
    "        \n",
    "        # for acessing the pay rate \n",
    "        # we have to give intsance from class level it will search the class level then \n"
   ]
  },
  {
   "cell_type": "code",
   "execution_count": 144,
   "metadata": {},
   "outputs": [],
   "source": [
    "class Phone(Item):\n",
    "    \n",
    "    def __init__(self, name: str, cost: int, quantity: int,broken :int):\n",
    "        super().__init__(name, cost, quantity)\n",
    "        self.broken=broken\n",
    "        \n",
    "        "
   ]
  },
  {
   "cell_type": "code",
   "execution_count": 145,
   "metadata": {},
   "outputs": [
    {
     "name": "stdout",
     "output_type": "stream",
     "text": [
      "400.0\n"
     ]
    }
   ],
   "source": [
    "phone1=Phone(\"nokia\",500,5,1)\n",
    "print(phone1.apply_disc())"
   ]
  },
  {
   "cell_type": "code",
   "execution_count": 146,
   "metadata": {},
   "outputs": [
    {
     "name": "stdout",
     "output_type": "stream",
     "text": [
      "[Phone('nokia',500,5) ]\n"
     ]
    }
   ],
   "source": [
    "print(Phone.all)"
   ]
  },
  {
   "cell_type": "code",
   "execution_count": 147,
   "metadata": {},
   "outputs": [],
   "source": [
    "item1=Item(\"laptop\",240,4)"
   ]
  },
  {
   "cell_type": "code",
   "execution_count": 148,
   "metadata": {},
   "outputs": [
    {
     "name": "stdout",
     "output_type": "stream",
     "text": [
      "[Phone('nokia',500,5) , Item('laptop',240,4) ]\n"
     ]
    }
   ],
   "source": [
    "print(Item.all)"
   ]
  },
  {
   "cell_type": "markdown",
   "metadata": {},
   "source": [
    "getter and setter method "
   ]
  },
  {
   "cell_type": "code",
   "execution_count": 155,
   "metadata": {},
   "outputs": [],
   "source": [
    "class Item():\n",
    "    all=[] # all will be the varaibel which will have all the instances from the class\n",
    "    pay_rate=.8 #class level attribute \n",
    "    def __init__(self, name: str , cost:int, quantity:int):\n",
    "        assert cost>0\n",
    "        assert quantity>0\n",
    "        self._name=name\n",
    "        self.cost=cost\n",
    "        self.quantity= quantity\n",
    "        self.all.append(self)\n",
    "    \n",
    "    #read only name it wil act as read only only one time read\n",
    "    @property\n",
    "    def read_only_name(self):\n",
    "        return \"AAA\"\n",
    "    \n",
    "    @property\n",
    "    def name(self):\n",
    "        return self._name \n",
    "\n",
    "\n",
    "    def __repr__(self):\n",
    "        return f\"{self.__class__.__name__}('{self.name}',{self.cost},{self.quantity}) \"\n",
    "    \n",
    "    def calculate(self):\n",
    "        return self.cost * self.quantity\n",
    "    \n",
    "\n",
    "\n",
    "    def apply_disc(self):\n",
    "         return self.cost * self.pay_rate \n",
    "        \n",
    "        # for acessing the pay rate \n",
    "        # we have to give intsance from class level it will search the class level then \n"
   ]
  },
  {
   "cell_type": "code",
   "execution_count": 156,
   "metadata": {},
   "outputs": [],
   "source": [
    "item1=Item(\"nokia\",21,2)"
   ]
  },
  {
   "cell_type": "code",
   "execution_count": 158,
   "metadata": {},
   "outputs": [
    {
     "ename": "AttributeError",
     "evalue": "can't set attribute 'name'",
     "output_type": "error",
     "traceback": [
      "\u001b[0;31m---------------------------------------------------------------------------\u001b[0m",
      "\u001b[0;31mAttributeError\u001b[0m                            Traceback (most recent call last)",
      "Cell \u001b[0;32mIn[158], line 1\u001b[0m\n\u001b[0;32m----> 1\u001b[0m \u001b[43mitem1\u001b[49m\u001b[38;5;241;43m.\u001b[39;49m\u001b[43mname\u001b[49m\u001b[38;5;241m=\u001b[39m\u001b[38;5;124m\"\u001b[39m\u001b[38;5;124mali\u001b[39m\u001b[38;5;124m\"\u001b[39m\n",
      "\u001b[0;31mAttributeError\u001b[0m: can't set attribute 'name'"
     ]
    }
   ],
   "source": [
    "#by using these we have kind of private data type just link ein c++ it can only be read \n",
    "#@property making it private \n",
    "class Item():\n",
    "    all=[] # all will be the varaibel which will have all the instances from the class\n",
    "    pay_rate=.8 #class level attribute \n",
    "    def __init__(self, name: str , cost:int, quantity:int):\n",
    "        assert cost>0\n",
    "        assert quantity>0\n",
    "        self._name=name\n",
    "        self.cost=cost\n",
    "        self.quantity= quantity\n",
    "        self.all.append(self)\n",
    "    \n",
    "    #read only name it wil act as read only only one time read\n",
    "    @property\n",
    "    def read_only_name(self):\n",
    "        return \"AAA\"\n",
    "    \n",
    "    @property\n",
    "    def name(self):\n",
    "        return self._name \n",
    "\n",
    "\n",
    "    def __repr__(self):\n",
    "        return f\"{self.__class__.__name__}('{self.name}',{self.cost},{self.quantity}) \"\n",
    "    \n",
    "    def calculate(self):\n",
    "        return self.cost * self.quantity\n",
    "    \n",
    "\n",
    "\n",
    "    def apply_disc(self):\n",
    "         return self.cost * self.pay_rate \n",
    "        \n",
    "        # for acessing the pay rate \n",
    "        # we have to give intsance from class level it will search the class level then \n"
   ]
  },
  {
   "cell_type": "code",
   "execution_count": 11,
   "metadata": {},
   "outputs": [],
   "source": [
    "class Employee:\n",
    "    def __init__(self,first,last):\n",
    "        self.first=first\n",
    "        self.last=last\n",
    "    # by suing the @property we can sue this function without paranthesiis and \n",
    "    # it will hep us to save our value in update manner\n",
    "    @property\n",
    "    def fullname(self):\n",
    "        return '{} {}'.format(self.first,self.last)\n",
    "    @property\n",
    "    def email(self):\n",
    "        return '{} {}@email.com'.format(self.first,self.last)\n",
    "    #for updating the value we havet to use decorate so we can update the value using setter method \n",
    "\n",
    "    @fullname.setter\n",
    "    def fullname(self,name):\n",
    "        self.first , self.last=name.split(' ')\n",
    "\n",
    "    #deleter method will delet the name if we call the attribute \n",
    "    @fullname.deleter\n",
    "    def fullname(self):\n",
    "        self.first=None\n",
    "        self.last=None\n",
    "        print(\"deleted the name\")\n",
    "        return \"deleted the name\"\n",
    "\n",
    "\n",
    "\n",
    "        "
   ]
  },
  {
   "cell_type": "code",
   "execution_count": 12,
   "metadata": {},
   "outputs": [
    {
     "name": "stdout",
     "output_type": "stream",
     "text": [
      "John Doe\n",
      "John Doe\n"
     ]
    }
   ],
   "source": [
    "emp1=Employee('John','Doe')\n",
    "print(emp1.fullname)\n",
    "print(emp1.fullname)"
   ]
  },
  {
   "cell_type": "code",
   "execution_count": 13,
   "metadata": {},
   "outputs": [
    {
     "name": "stdout",
     "output_type": "stream",
     "text": [
      "deleted the name\n"
     ]
    }
   ],
   "source": [
    "#now setting the value and chanigng the value wil  casue the eror because it is an setter method \n",
    "#like priavate attribute in class in C++\n",
    "emp1.fullname=\"fazal doe\"\n",
    "del emp1.fullname"
   ]
  },
  {
   "cell_type": "code",
   "execution_count": 15,
   "metadata": {},
   "outputs": [
    {
     "data": {
      "text/plain": [
       "'Joe doe@email.com'"
      ]
     },
     "execution_count": 15,
     "metadata": {},
     "output_type": "execute_result"
    }
   ],
   "source": [
    "emp1.fullname=\"Joe doe\"\n",
    "emp1.email"
   ]
  },
  {
   "cell_type": "code",
   "execution_count": 17,
   "metadata": {},
   "outputs": [],
   "source": [
    "#private attribute in oop \n",
    "class Item():\n",
    "\n",
    "    def __init__(self, name: str , cost:int, quantity:int):\n",
    "        assert cost>0\n",
    "        assert quantity>0\n",
    "        #this will make the attribute private non accessable \n",
    "        self.__name=name\n",
    "        self.cost=cost\n",
    "        self.quantity= quantity\n",
    "      #  self.all.append(self)\n",
    "    \n",
    "    #read only name it wil act as read only only one time read\n",
    "    \n",
    "    \n",
    "    @property\n",
    "    def name(self):\n",
    "        return self.__name \n",
    "\n",
    "\n",
    "    #def __repr__(self):\n",
    "     #   return f\"{self.__class__.__name__}('{self.name}',{self.cost},{self.quantity}) \"\n",
    "    \n",
    "   # def calculate(self):\n",
    "    #    return self.cost * self.quantity\n",
    "    \n",
    "\n",
    "\n",
    "    #def apply_disc(self):\n",
    "     #    return self.cost * self.pay_rate \n",
    "        "
   ]
  },
  {
   "cell_type": "code",
   "execution_count": 18,
   "metadata": {},
   "outputs": [],
   "source": [
    "item1=Item(\"laptop\",240,2)"
   ]
  },
  {
   "cell_type": "code",
   "execution_count": 22,
   "metadata": {},
   "outputs": [
    {
     "ename": "AttributeError",
     "evalue": "can't set attribute 'name'",
     "output_type": "error",
     "traceback": [
      "\u001b[0;31m---------------------------------------------------------------------------\u001b[0m",
      "\u001b[0;31mAttributeError\u001b[0m                            Traceback (most recent call last)",
      "Cell \u001b[0;32mIn[22], line 1\u001b[0m\n\u001b[0;32m----> 1\u001b[0m \u001b[43mitem1\u001b[49m\u001b[38;5;241;43m.\u001b[39;49m\u001b[43mname\u001b[49m\u001b[38;5;241m=\u001b[39m\u001b[38;5;124m\"\u001b[39m\u001b[38;5;124mphone\u001b[39m\u001b[38;5;124m\"\u001b[39m\u001b[38;5;66;03m#se it only become read only data type using Aproeprty to make it use without paranthesis and __\u001b[39;00m\n",
      "\u001b[0;31mAttributeError\u001b[0m: can't set attribute 'name'"
     ]
    }
   ],
   "source": [
    "item1.name=\"phone\"#se it only become read only data type using Aproeprty to make it use without paranthesis and __"
   ]
  },
  {
   "cell_type": "code",
   "execution_count": null,
   "metadata": {},
   "outputs": [],
   "source": [
    "#we can set the value by using @name.setter method but itl wdestroy the purpose of private attribute "
   ]
  },
  {
   "cell_type": "markdown",
   "metadata": {},
   "source": [
    "Encapsulation \n"
   ]
  },
  {
   "cell_type": "code",
   "execution_count": 23,
   "metadata": {},
   "outputs": [],
   "source": [
    "class Item():\n",
    "\n",
    "    def __init__(self, name: str , cost:int, quantity:int):\n",
    "        assert cost>0\n",
    "        assert quantity>0\n",
    "        #this will make the attribute private non accessable \n",
    "        self.__name=name\n",
    "        self.__cost=cost\n",
    "        self.quantity= quantity\n",
    "      #  self.all.append(self)\n",
    "    \n",
    "    #read only name it wil act as read only only one time read\n",
    "    \n",
    "    \n",
    "    @property\n",
    "    def name(self):\n",
    "        return self.__name \n",
    "    #encapulation == You cant access the variable just as name now we are going to try to make it is like price an encapsulation\n",
    "    @property\n",
    "    def cost(self):\n",
    "        return self.__cost\n"
   ]
  },
  {
   "cell_type": "code",
   "execution_count": 24,
   "metadata": {},
   "outputs": [],
   "source": [
    "item2=Item(\"phone\",25,25)"
   ]
  },
  {
   "cell_type": "code",
   "execution_count": 27,
   "metadata": {},
   "outputs": [
    {
     "data": {
      "text/plain": [
       "25"
      ]
     },
     "execution_count": 27,
     "metadata": {},
     "output_type": "execute_result"
    }
   ],
   "source": [
    "#item2.cost=23\n",
    "item2.cost#we cannt update the variable in pyhton make it encapsulated "
   ]
  },
  {
   "cell_type": "markdown",
   "metadata": {},
   "source": [
    "Abstraction"
   ]
  },
  {
   "cell_type": "code",
   "execution_count": 38,
   "metadata": {},
   "outputs": [],
   "source": [
    "class Item():\n",
    "\n",
    "    def __init__(self, name: str , cost:int, quantity:int):\n",
    "        assert cost>0\n",
    "        assert quantity>0\n",
    "        #this will make the attribute private non accessable \n",
    "        self.__name=name\n",
    "        self.__cost=cost\n",
    "        self.quantity= quantity\n",
    "      #  self.all.append(self)\n",
    "    \n",
    "    #read only name it wil act as read only only one time read\n",
    "    \n",
    "    \n",
    "    @property\n",
    "    def name(self):\n",
    "        return self.__name \n",
    "    #encapulation == You cant access the variable just as name now we are going to try to make it is like price an encapsulation\n",
    "    @property\n",
    "    def cost(self):\n",
    "        return self.__cost\n",
    "    \n",
    "    #using abstraction now \n",
    "    #making the function private \n",
    "    def __connect(self):\n",
    "        print(\"connecting ......\")\n",
    "    def __body(self):\n",
    "        return f\"\"\"        \n",
    "       Hello someone .\n",
    "       we have {self.name} {self.quantity} it will cost \n",
    "       {self.cost}\n",
    "\n",
    "        \"\"\"\n",
    "    def __send(self,body):\n",
    "      \n",
    "        print(body)\n",
    "        print(\"email has been sent\")\n",
    "    \n",
    "\n",
    "\n",
    "    def send_email(self):\n",
    "        self.__connect()\n",
    "        body=self.__body()\n",
    "        self.__send(body)\n"
   ]
  },
  {
   "cell_type": "code",
   "execution_count": 39,
   "metadata": {},
   "outputs": [],
   "source": [
    "item1=Item(\"laptop\",24,10)"
   ]
  },
  {
   "cell_type": "code",
   "execution_count": 40,
   "metadata": {},
   "outputs": [
    {
     "name": "stdout",
     "output_type": "stream",
     "text": [
      "connecting ......\n",
      "        \n",
      "       Hello someone .\n",
      "       we have laptop 10 it will cost \n",
      "       24\n",
      "\n",
      "        \n",
      "email has been sent\n"
     ]
    }
   ],
   "source": [
    "item1.send_email()"
   ]
  },
  {
   "cell_type": "markdown",
   "metadata": {},
   "source": [
    "in above code there function act as private function it wil be accesed only in inside function of class . <br>abstract is acces only in classlevel we cant acces it in instance level'\n"
   ]
  },
  {
   "cell_type": "markdown",
   "metadata": {},
   "source": [
    "<b>Polymorphism</b>"
   ]
  },
  {
   "cell_type": "code",
   "execution_count": 83,
   "metadata": {},
   "outputs": [],
   "source": [
    "class Item:\n",
    "    def __init__(self, price, name, quantity):\n",
    "        self.name = name\n",
    "        self.price = price\n",
    "        self.quantity = quantity\n",
    "\n",
    "    def total_cost(self):\n",
    "        return self.price * self.quantity\n"
   ]
  },
  {
   "cell_type": "markdown",
   "metadata": {},
   "source": [
    "its also an example of function overdign calling the function from aprent class and then <br>\n",
    "overiding it "
   ]
  },
  {
   "cell_type": "code",
   "execution_count": 88,
   "metadata": {},
   "outputs": [],
   "source": [
    "class Phone(Item):\n",
    "    def __init__(self, price, name, quantity, broken):\n",
    "        super().__init__(price, name, quantity)\n",
    "        self.broken = int(broken)  # Convert broken to an integer\n",
    "\n",
    "    def total_cost(self):\n",
    "        return super().total_cost() - self.broken * 100"
   ]
  },
  {
   "cell_type": "code",
   "execution_count": 90,
   "metadata": {},
   "outputs": [],
   "source": [
    "phone1=Phone(\"nokia\",240,10,3)\n"
   ]
  },
  {
   "cell_type": "code",
   "execution_count": 91,
   "metadata": {},
   "outputs": [
    {
     "name": "stdout",
     "output_type": "stream",
     "text": [
      "900\n"
     ]
    }
   ],
   "source": [
    "phone = Phone(500, \"Smartphone\", 2, 1)\n",
    "print(phone.total_cost())"
   ]
  },
  {
   "cell_type": "code",
   "execution_count": null,
   "metadata": {},
   "outputs": [],
   "source": []
  }
 ],
 "metadata": {
  "kernelspec": {
   "display_name": "training",
   "language": "python",
   "name": "python3"
  },
  "language_info": {
   "codemirror_mode": {
    "name": "ipython",
    "version": 3
   },
   "file_extension": ".py",
   "mimetype": "text/x-python",
   "name": "python",
   "nbconvert_exporter": "python",
   "pygments_lexer": "ipython3",
   "version": "3.10.14"
  }
 },
 "nbformat": 4,
 "nbformat_minor": 2
}
