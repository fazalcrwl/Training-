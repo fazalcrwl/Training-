{
 "cells": [
  {
   "cell_type": "code",
   "execution_count": 6,
   "metadata": {},
   "outputs": [],
   "source": [
    "class Parent:\n",
    "    def func1(self):\n",
    "        print(\"parent class \")"
   ]
  },
  {
   "cell_type": "code",
   "execution_count": 7,
   "metadata": {},
   "outputs": [],
   "source": [
    "class child(Parent):\n",
    "    def func2(self):\n",
    "      print(\"child class\")"
   ]
  },
  {
   "cell_type": "code",
   "execution_count": 9,
   "metadata": {},
   "outputs": [
    {
     "name": "stdout",
     "output_type": "stream",
     "text": [
      "child class\n"
     ]
    }
   ],
   "source": [
    "ch1=child()\n",
    "ch1.func2()"
   ]
  },
  {
   "cell_type": "code",
   "execution_count": 15,
   "metadata": {},
   "outputs": [
    {
     "name": "stdout",
     "output_type": "stream",
     "text": [
      "Hey there, you are in the parent class\n"
     ]
    }
   ],
   "source": [
    "class Above:\n",
    "    i = 5\n",
    "    def fun1(self):\n",
    "        print(\"Hey there, you are in the parent class\")\n",
    "\n",
    "#subclass\n",
    "class Below(Above):\n",
    "    i=10\n",
    "    def fun2(self):\n",
    "        print(\"Hey there, you are in the sub class\")\n",
    "\n",
    "temp1=Below()\n",
    "temp2=Above()\n",
    "temp1.fun1()\n",
    "#temp1.fun2()\n",
    "#temp2.fun1()\n",
    "#print(temp1.i)\n",
    "#print(temp2.i)\n",
    "#temp2.fun2()"
   ]
  },
  {
   "cell_type": "markdown",
   "metadata": {},
   "source": [
    "Multiple inheritance in python example"
   ]
  },
  {
   "cell_type": "code",
   "execution_count": 1,
   "metadata": {},
   "outputs": [
    {
     "name": "stdout",
     "output_type": "stream",
     "text": [
      "This is the grandparent method.\n",
      "This is the parent method.\n",
      "This is the child method.\n"
     ]
    }
   ],
   "source": [
    "class Grandparent:\n",
    "    def grandparent_method(self):\n",
    "        return \"This is the grandparent method.\"\n",
    "\n",
    "class Parent(Grandparent):\n",
    "    def parent_method(self):\n",
    "        return \"This is the parent method.\"\n",
    "\n",
    "class Child(Parent):\n",
    "    def child_method(self):\n",
    "        return \"This is the child method.\"\n",
    "\n",
    "# Main function to test the classes\n",
    "def main():\n",
    "    child = Child()\n",
    "    print(child.grandparent_method())  # Inherited from Grandparent\n",
    "    print(child.parent_method())       # Inherited from Parent\n",
    "    print(child.child_method())        # Defined in Child\n",
    "\n",
    "if __name__ == \"__main__\":\n",
    "    main()\n"
   ]
  },
  {
   "cell_type": "markdown",
   "metadata": {},
   "source": [
    "Mutliple Inheritance "
   ]
  },
  {
   "cell_type": "code",
   "execution_count": 2,
   "metadata": {},
   "outputs": [
    {
     "name": "stdout",
     "output_type": "stream",
     "text": [
      "This is the mother method.\n",
      "This is the father method.\n",
      "This is the child method.\n"
     ]
    }
   ],
   "source": [
    "class Mother:\n",
    "    def mother_method(self):\n",
    "        return \"This is the mother method.\"\n",
    "\n",
    "class Father:\n",
    "    def father_method(self):\n",
    "        return \"This is the father method.\"\n",
    "\n",
    "class Child(Mother, Father):\n",
    "    def child_method(self):\n",
    "        return \"This is the child method.\"\n",
    "\n",
    "# Main function to test the classes\n",
    "def main():\n",
    "    child = Child()\n",
    "    print(child.mother_method())  # Inherited from Mother\n",
    "    print(child.father_method())  # Inherited from Father\n",
    "    print(child.child_method())   # Defined in Child\n",
    "\n",
    "if __name__ == \"__main__\":\n",
    "    main()\n"
   ]
  },
  {
   "cell_type": "markdown",
   "metadata": {},
   "source": [
    "Hierarchical Inheritance"
   ]
  },
  {
   "cell_type": "code",
   "execution_count": 3,
   "metadata": {},
   "outputs": [
    {
     "name": "stdout",
     "output_type": "stream",
     "text": [
      "This is the parent method.\n",
      "This is the child1 method.\n",
      "This is the parent method.\n",
      "This is the child2 method.\n"
     ]
    }
   ],
   "source": [
    "class Parent:\n",
    "    def parent_method(self):\n",
    "        return \"This is the parent method.\"\n",
    "\n",
    "class Child1(Parent):\n",
    "    def child1_method(self):\n",
    "        return \"This is the child1 method.\"\n",
    "\n",
    "class Child2(Parent):\n",
    "    def child2_method(self):\n",
    "        return \"This is the child2 method.\"\n",
    "\n",
    "# Main function to test the classes\n",
    "def main():\n",
    "    child1 = Child1()\n",
    "    child2 = Child2()\n",
    "    print(child1.parent_method())  # Inherited from Parent\n",
    "    print(child1.child1_method())  # Defined in Child1\n",
    "    print(child2.parent_method())  # Inherited from Parent\n",
    "    print(child2.child2_method())  # Defined in Child2\n",
    "\n",
    "if __name__ == \"__main__\":\n",
    "    main()\n"
   ]
  },
  {
   "cell_type": "markdown",
   "metadata": {},
   "source": [
    "Hierchical Inheritance but it aslo creates a diamond Problem"
   ]
  },
  {
   "cell_type": "code",
   "execution_count": 4,
   "metadata": {},
   "outputs": [
    {
     "name": "stdout",
     "output_type": "stream",
     "text": [
      "This is the grandparent method.\n",
      "This is the parent1 method.\n",
      "This is the parent2 method.\n",
      "This is the child method.\n"
     ]
    }
   ],
   "source": [
    "class Grandparent:\n",
    "    def grandparent_method(self):\n",
    "        return \"This is the grandparent method.\"\n",
    "\n",
    "class Parent1(Grandparent):\n",
    "    def parent1_method(self):\n",
    "        return \"This is the parent1 method.\"\n",
    "\n",
    "class Parent2(Grandparent):\n",
    "    def parent2_method(self):\n",
    "        return \"This is the parent2 method.\"\n",
    "\n",
    "class Child(Parent1, Parent2):\n",
    "    def child_method(self):\n",
    "        return \"This is the child method.\"\n",
    "\n",
    "# Main function to test the classes\n",
    "def main():\n",
    "    child = Child()\n",
    "    print(child.grandparent_method())  # Inherited from Grandparent\n",
    "    print(child.parent1_method())      # Inherited from Parent1\n",
    "    print(child.parent2_method())      # Inherited from Parent2\n",
    "    print(child.child_method())        # Defined in Child\n",
    "\n",
    "if __name__ == \"__main__\":\n",
    "    main()\n"
   ]
  },
  {
   "attachments": {
    "image.png": {
     "image/png": "[encoded data removed]"
    }
   },
   "cell_type": "markdown",
   "metadata": {},
   "source": [
    "![image.png](attachment:image.png)"
   ]
  },
  {
   "cell_type": "markdown",
   "metadata": {},
   "source": [
    "For this solution pyhton will consider the left most in () <br>\n"
   ]
  },
  {
   "cell_type": "markdown",
   "metadata": {},
   "source": [
    "Operator overloading <br>\n",
    "operator over riding\n",
    "/\n"
   ]
  },
  {
   "cell_type": "code",
   "execution_count": 13,
   "metadata": {},
   "outputs": [],
   "source": [
    "class vector:\n",
    "    def __init__(self,i,j):\n",
    "        self.i=i\n",
    "        self.j=j\n",
    "    def __add__(self,x):\n",
    "        return vector(self.i+x.i,self.j+x.j)\n",
    "    def __str__(self) :\n",
    "        return f\"{self.i}+{self.j}\"\n",
    "    \n",
    "    \n",
    "\n"
   ]
  },
  {
   "cell_type": "code",
   "execution_count": 14,
   "metadata": {},
   "outputs": [],
   "source": [
    "vector1=vector(5,5)\n",
    "vector2=vector(4,4)\n",
    "vector3=vector1+vector2"
   ]
  },
  {
   "cell_type": "code",
   "execution_count": 17,
   "metadata": {},
   "outputs": [
    {
     "name": "stdout",
     "output_type": "stream",
     "text": [
      "9+9\n"
     ]
    }
   ],
   "source": [
    "print(vector3)"
   ]
  },
  {
   "cell_type": "code",
   "execution_count": null,
   "metadata": {},
   "outputs": [],
   "source": []
  }
 ],
 "metadata": {
  "kernelspec": {
   "display_name": "training",
   "language": "python",
   "name": "python3"
  },
  "language_info": {
   "codemirror_mode": {
    "name": "ipython",
    "version": 3
   },
   "file_extension": ".py",
   "mimetype": "text/x-python",
   "name": "python",
   "nbconvert_exporter": "python",
   "pygments_lexer": "ipython3",
   "version": "3.10.14"
  }
 },
 "nbformat": 4,
 "nbformat_minor": 2
}
