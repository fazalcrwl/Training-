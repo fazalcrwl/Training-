{
 "cells": [
  {
   "cell_type": "code",
   "execution_count": 2,
   "metadata": {},
   "outputs": [],
   "source": [
    "import os \n",
    "os.chdir(\"../\")\n"
   ]
  },
  {
   "cell_type": "code",
   "execution_count": 3,
   "metadata": {},
   "outputs": [
    {
     "data": {
      "text/plain": [
       "'/home/de/Training/housing_pricing'"
      ]
     },
     "execution_count": 3,
     "metadata": {},
     "output_type": "execute_result"
    }
   ],
   "source": [
    "%pwd"
   ]
  },
  {
   "cell_type": "code",
   "execution_count": 4,
   "metadata": {},
   "outputs": [],
   "source": [
    "from dataclasses import dataclass\n",
    "from pathlib import Path\n",
    "@dataclass(frozen=True)\n",
    "class DataIngestionConfig:\n",
    "    root_path:Path\n",
    "    source_url: str\n",
    "    local_data_file: Path\n",
    "    unzip_dir: Path\n",
    "    \n",
    "\n",
    "\n"
   ]
  },
  {
   "cell_type": "code",
   "execution_count": 5,
   "metadata": {},
   "outputs": [
    {
     "data": {
      "text/plain": [
       "'/home/de/Training/housing_pricing'"
      ]
     },
     "execution_count": 5,
     "metadata": {},
     "output_type": "execute_result"
    }
   ],
   "source": [
    "%pwd"
   ]
  },
  {
   "cell_type": "code",
   "execution_count": 6,
   "metadata": {},
   "outputs": [],
   "source": [
    "from housing_price.constants import config_file_path,params_file_path\n",
    "from housing_price.utils.common import read_yaml, create_directories"
   ]
  },
  {
   "cell_type": "code",
   "execution_count": 7,
   "metadata": {},
   "outputs": [
    {
     "name": "stdout",
     "output_type": "stream",
     "text": [
      "config.yaml\n"
     ]
    }
   ],
   "source": [
    "print(config_file_path)\n"
   ]
  },
  {
   "cell_type": "code",
   "execution_count": null,
   "metadata": {},
   "outputs": [],
   "source": []
  },
  {
   "cell_type": "code",
   "execution_count": 8,
   "metadata": {},
   "outputs": [],
   "source": [
    "class ConfigurationManager:\n",
    "    def __init__(self,\n",
    "                 config_file_path=config_file_path,\n",
    "                 params_file_path=params_file_path\n",
    "                 \n",
    "                 \n",
    "                 ):\n",
    "        \n",
    "        self.config=read_yaml(config_file_path)\n",
    "\n",
    "        self.params=read_yaml(params_file_path)\n",
    "\n",
    "        create_directories([self.config.artifacts_root])\n",
    "\n",
    "    def get_data_ingestion_config(self) -> DataIngestionConfig:\n",
    "        config=self.config.data_ingestion\n",
    "\n",
    "        print(config.local_data_file)\n",
    "        create_directories([config.root_dir])\n",
    "\n",
    "        data_ingestion_config=DataIngestionConfig(\n",
    "          \n",
    "            root_path=config.root_dir,\n",
    "            source_url=config.source_url,\n",
    "            local_data_file= config.local_data_file,\n",
    "            \n",
    "            unzip_dir=config.unzip_dir\n",
    "            \n",
    "\n",
    "\n",
    "        )\n",
    "        return data_ingestion_config\n"
   ]
  },
  {
   "cell_type": "markdown",
   "metadata": {},
   "source": [
    "Trying to laod zip and extract the zip file "
   ]
  },
  {
   "cell_type": "code",
   "execution_count": 9,
   "metadata": {},
   "outputs": [],
   "source": [
    "import zipfile"
   ]
  },
  {
   "cell_type": "code",
   "execution_count": 10,
   "metadata": {},
   "outputs": [],
   "source": [
    "\n",
    "with zipfile.ZipFile('artifacts/data_ingestion/data.zip', 'r') as zip_ref:\n",
    "        zip_ref.extractall('artifacts/data_ingestion/unzip_dir')"
   ]
  },
  {
   "cell_type": "code",
   "execution_count": 11,
   "metadata": {},
   "outputs": [],
   "source": [
    "import zipfile"
   ]
  },
  {
   "cell_type": "code",
   "execution_count": 12,
   "metadata": {},
   "outputs": [],
   "source": [
    "class DataIngestion:\n",
    "   def __init__(self, config:DataIngestionConfig) :\n",
    "      self.config= config\n",
    "\n",
    "   def extract_file(self):\n",
    "      print(self.config)\n",
    "      if  os.path.exists(self.config.local_data_file):\n",
    "         \n",
    "         \n",
    "        with zipfile.ZipFile(self.config.local_data_file, 'r') as zip_ref:\n",
    "            zip_ref.extractall(self.config.unzip_dir)\n",
    "\n",
    "      "
   ]
  },
  {
   "cell_type": "code",
   "execution_count": 13,
   "metadata": {},
   "outputs": [
    {
     "name": "stdout",
     "output_type": "stream",
     "text": [
      "app.py      config.yaml  main.py      requirements.txt  \u001b[0m\u001b[01;34msrc\u001b[0m/\n",
      "\u001b[01;34martifacts\u001b[0m/  \u001b[01;34mhousing\u001b[0m/     params.yaml  \u001b[01;34mresearch\u001b[0m/         template.py\n",
      "\u001b[01;34mconfig\u001b[0m/     \u001b[01;34mlogs\u001b[0m/        README.md    setup.py          test.py\n"
     ]
    }
   ],
   "source": [
    "%ls"
   ]
  },
  {
   "cell_type": "code",
   "execution_count": 14,
   "metadata": {},
   "outputs": [
    {
     "name": "stdout",
     "output_type": "stream",
     "text": [
      "[2024-08-08 13:21:56,501: INFO: common:yaml file : config.yaml laoded sucessfully]\n",
      "[2024-08-08 13:21:56,505: INFO: common:yaml file : params.yaml laoded sucessfully]\n",
      "[2024-08-08 13:21:56,506: INFO: common:created directory at :artifacts ]\n",
      "artifcats/data_ingestion/data.zip\n",
      "[2024-08-08 13:21:56,508: INFO: common:created directory at :artifacts/data_ingestion ]\n",
      "DataIngestionConfig(root_path='artifacts/data_ingestion', source_url='https://www.kaggle.com/code/nebilekodaz/knn-notebook', local_data_file='artifcats/data_ingestion/data.zip', unzip_dir='artifacts/data_ingestion/unzip_dir')\n"
     ]
    }
   ],
   "source": [
    "try:\n",
    "    config=ConfigurationManager()\n",
    "    \n",
    "    data_ingestion_config=config.get_data_ingestion_config()\n",
    "    data_ingestion=DataIngestion(config=data_ingestion_config)\n",
    "    data_ingestion.extract_file()\n",
    "except Exception as e:\n",
    "    raise e"
   ]
  },
  {
   "cell_type": "code",
   "execution_count": null,
   "metadata": {},
   "outputs": [],
   "source": []
  }
 ],
 "metadata": {
  "kernelspec": {
   "display_name": "Python 3",
   "language": "python",
   "name": "python3"
  },
  "language_info": {
   "codemirror_mode": {
    "name": "ipython",
    "version": 3
   },
   "file_extension": ".py",
   "mimetype": "text/x-python",
   "name": "python",
   "nbconvert_exporter": "python",
   "pygments_lexer": "ipython3",
   "version": "3.12.4"
  }
 },
 "nbformat": 4,
 "nbformat_minor": 2
}
