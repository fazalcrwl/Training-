{
 "cells": [
  {
   "cell_type": "code",
   "execution_count": 1,
   "metadata": {},
   "outputs": [],
   "source": [
    "import os \n",
    "os.chdir(\"../\")\n"
   ]
  },
  {
   "cell_type": "code",
   "execution_count": 2,
   "metadata": {},
   "outputs": [],
   "source": [
    "from dataclasses import dataclass\n",
    "from pathlib import Path\n",
    "@dataclass(frozen=True)\n",
    "class PredictConfig:\n",
    "        root_dir: Path\n",
    "        model_save:Path\n"
   ]
  },
  {
   "cell_type": "code",
   "execution_count": 3,
   "metadata": {},
   "outputs": [],
   "source": [
    "from housing_price.constants import config_file_path,params_file_path\n",
    "from housing_price.utils.common import read_yaml, create_directories"
   ]
  },
  {
   "cell_type": "code",
   "execution_count": 4,
   "metadata": {},
   "outputs": [],
   "source": [
    "class ConfigurationManager:\n",
    "    def __init__(self,\n",
    "                 config_file_path=config_file_path,\n",
    "                 params_file_path=params_file_path\n",
    "                 \n",
    "                 \n",
    "                 ):\n",
    "        \n",
    "        self.config=read_yaml(config_file_path)\n",
    "\n",
    "        self.params=read_yaml(params_file_path)\n",
    "\n",
    "        create_directories([self.config.artifacts_root])\n",
    "\n",
    "    def get_predict_config(self) -> PredictConfig:\n",
    "        config=self.config.data_training\n",
    "\n",
    "        \n",
    "        create_directories([config.root_dir])\n",
    "\n",
    "        predict_config=PredictConfig(\n",
    "          \n",
    "            root_dir=config.root_dir,\n",
    "            \n",
    "            model_save=config.model_save\n",
    "            \n",
    "\n",
    "\n",
    "        )\n",
    "        return predict_config"
   ]
  },
  {
   "cell_type": "code",
   "execution_count": 6,
   "metadata": {},
   "outputs": [],
   "source": [
    "import pickle###bedrooms, bathrooms, sqft_living, sqft_lot, floors,\n",
    "       #waterfront, view, condition, grade, sqft_above,\n",
    "       ##sqft_basement, yr_built, yr_renovated, zipcode, lat, long,\n",
    "       #sqft_living15, sqft_lot15\n"
   ]
  },
  {
   "cell_type": "code",
   "execution_count": 7,
   "metadata": {},
   "outputs": [],
   "source": [
    "class Predict():\n",
    "     def __init__(self, config:PredictConfig) :\n",
    "      self.config= config\n",
    "\n",
    "     def predict(self,dataframe):\n",
    "        with open(self.config.model_save, 'rb') as f:\n",
    "           model = pickle.load(f)\n",
    "\n",
    "        x=model.predict(dataframe)\n",
    "        return x\n",
    "\n"
   ]
  },
  {
   "cell_type": "code",
   "execution_count": null,
   "metadata": {},
   "outputs": [],
   "source": [
    "try:\n",
    "    config=ConfigurationManager()\n",
    "    predict_config=PredictConfig()\n",
    "    predict=Predict(predict_config)\n",
    "    z=predict.predict() \n",
    "\n",
    "\n",
    "\n"
   ]
  }
 ],
 "metadata": {
  "kernelspec": {
   "display_name": "Python 3",
   "language": "python",
   "name": "python3"
  },
  "language_info": {
   "codemirror_mode": {
    "name": "ipython",
    "version": 3
   },
   "file_extension": ".py",
   "mimetype": "text/x-python",
   "name": "python",
   "nbconvert_exporter": "python",
   "pygments_lexer": "ipython3",
   "version": "3.12.4"
  }
 },
 "nbformat": 4,
 "nbformat_minor": 2
}
