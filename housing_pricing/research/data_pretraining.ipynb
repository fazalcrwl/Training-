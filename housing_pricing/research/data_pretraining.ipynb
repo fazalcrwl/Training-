{
 "cells": [
  {
   "cell_type": "code",
   "execution_count": 1,
   "metadata": {},
   "outputs": [],
   "source": [
    "import os \n",
    "os.chdir(\"../\")\n"
   ]
  },
  {
   "cell_type": "code",
   "execution_count": 2,
   "metadata": {},
   "outputs": [],
   "source": [
    "from dataclasses import dataclass\n",
    "from pathlib import Path\n",
    "@dataclass(frozen=True)\n",
    "class DataPretrainingConfig:\n",
    "        root_dir: Path\n",
    "        unzip_dir: Path\n",
    "        pretrainn_data: Path\n",
    "\n",
    "\n"
   ]
  },
  {
   "cell_type": "code",
   "execution_count": 3,
   "metadata": {},
   "outputs": [],
   "source": [
    "from housing_price.constants import config_file_path,params_file_path\n",
    "from housing_price.utils.common import read_yaml, create_directories"
   ]
  },
  {
   "cell_type": "code",
   "execution_count": 15,
   "metadata": {},
   "outputs": [],
   "source": [
    "class ConfigurationManager:\n",
    "    def __init__(self,\n",
    "                 config_file_path=config_file_path,\n",
    "                 params_file_path=params_file_path\n",
    "                 \n",
    "                 \n",
    "                 ):\n",
    "        \n",
    "        self.config=read_yaml(config_file_path)\n",
    "\n",
    "        self.params=read_yaml(params_file_path)\n",
    "\n",
    "        create_directories([self.config.artifacts_root])\n",
    "\n",
    "    def get_pretrain_config(self) -> DataPretrainingConfig:\n",
    "        config=self.config.data_pretraining\n",
    "\n",
    "        \n",
    "        create_directories([config.root_dir])\n",
    "\n",
    "        data_pretrain_config=DataPretrainingConfig(\n",
    "          \n",
    "            root_dir=config.root_dir,\n",
    "            unzip_dir=config.unzip_dir,\n",
    "            pretrainn_data=config.pretrainn_data\n",
    "            \n",
    "\n",
    "\n",
    "        )\n",
    "        return data_pretrain_config\n"
   ]
  },
  {
   "cell_type": "code",
   "execution_count": 16,
   "metadata": {},
   "outputs": [],
   "source": [
    "import pandas  as pd \n",
    "from sklearn.model_selection import train_test_split\n",
    "import pickle \n"
   ]
  },
  {
   "cell_type": "code",
   "execution_count": 19,
   "metadata": {},
   "outputs": [],
   "source": [
    "class DataPretrain:\n",
    "   def __init__(self, config:DataPretrainingConfig) :\n",
    "      self.config= config\n",
    "\n",
    "   def pretrain_data(self):\n",
    "      df=pd.read_csv(self.config.unzip_dir)\n",
    "      X=df.drop('id',axis=1)\n",
    "      X=X.drop('date',axis=1)\n",
    "      Y=X['price']\n",
    "      X=X.drop('price',axis=1)\n",
    "      xtrain,xtest,ytrain,ytest=train_test_split(X,Y,test_size=0.2,random_state=42)\n",
    "\n",
    "      \n",
    "\n",
    "        # Assuming x_train, x_test, y_train, y_test are already defined\n",
    "\n",
    "        # Create a dictionary to store the data\n",
    "      data = {\n",
    "            'x_train': xtrain,\n",
    "            'x_test': xtest,\n",
    "            'y_train': ytrain,\n",
    "            'y_test': ytest\n",
    "        }\n",
    "\n",
    "        # Save the dictionary to a pickle file\n",
    "      with open(self.config.pretrainn_data, 'wb') as f:\n",
    "            pickle.dump(data, f)\n",
    "\n"
   ]
  },
  {
   "cell_type": "code",
   "execution_count": 20,
   "metadata": {},
   "outputs": [
    {
     "name": "stdout",
     "output_type": "stream",
     "text": [
      "[2024-08-08 17:30:25,056: INFO: common:yaml file : config.yaml laoded sucessfully]\n",
      "[2024-08-08 17:30:25,058: INFO: common:yaml file : params.yaml laoded sucessfully]\n",
      "[2024-08-08 17:30:25,059: INFO: common:created directory at :artifacts ]\n",
      "[2024-08-08 17:30:25,060: INFO: common:created directory at :artifacts/data_pretraining ]\n"
     ]
    }
   ],
   "source": [
    "try:\n",
    "    config=ConfigurationManager()\n",
    "    \n",
    "    data_pretrain_config=config.get_pretrain_config()\n",
    "    data_pretrain=DataPretrain(config=data_pretrain_config)\n",
    "    data_pretrain.pretrain_data()\n",
    "except Exception as e:\n",
    "    raise e"
   ]
  },
  {
   "cell_type": "code",
   "execution_count": null,
   "metadata": {},
   "outputs": [],
   "source": []
  }
 ],
 "metadata": {
  "kernelspec": {
   "display_name": "Python 3",
   "language": "python",
   "name": "python3"
  },
  "language_info": {
   "codemirror_mode": {
    "name": "ipython",
    "version": 3
   },
   "file_extension": ".py",
   "mimetype": "text/x-python",
   "name": "python",
   "nbconvert_exporter": "python",
   "pygments_lexer": "ipython3",
   "version": "3.12.4"
  }
 },
 "nbformat": 4,
 "nbformat_minor": 2
}
