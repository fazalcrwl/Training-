{
 "cells": [
  {
   "cell_type": "markdown",
   "metadata": {},
   "source": [
    "xample 1:\n",
    "\n",
    "Input: nums = [1,1,2]\n",
    "Output: 2, nums = [1,2,_]\n",
    "Explanation: Your function should return k = 2, with the first two elements of nums being 1 and 2 respectively.\n",
    "It does not matter what you leave beyond the returned k (hence they are underscores).\n",
    "\n",
    "Example 2:\n",
    "\n",
    "Input: nums = [0,0,1,1,1,2,2,3,3,4]\n",
    "Output: 5, nums = [0,1,2,3,4,_,_,_,_,_]\n",
    "Explanation: Your function should return k = 5, with the first five elements of nums being 0, 1, 2, 3, and 4 respectively.\n",
    "It does not matter what you leave beyond the returned k (hence they are underscores).\n"
   ]
  },
  {
   "cell_type": "code",
   "execution_count": 4,
   "metadata": {},
   "outputs": [],
   "source": [
    "nums=[0,0,1,1,1,2,2,3,3,4]\n",
    " :rtype: int\n",
    "        \"\"\"\n",
    "        if not nums:\n",
    "            return 0\n",
    "\n",
    "        # Convert to set to remove duplicates and then back to list\n",
    "        nums_list = sorted(list(set(nums)))\n",
    "\n",
    "        # Place the sorted unique elements back into the original list\n",
    "        for i in range(len(nums_list)):\n",
    "            nums[i] = nums_list[i]\n",
    "\n",
    "        return len(nums_list)"
   ]
  },
  {
   "cell_type": "code",
   "execution_count": 6,
   "metadata": {},
   "outputs": [],
   "source": [
    "def Dupliacte(nums):\n",
    "    if not nums:\n",
    "        return 0\n",
    "\n",
    "            # Convert to set to remove duplicates and then back to list\n",
    "    nums_list = sorted(list(set(nums)))\n",
    "\n",
    "            # Place the sorted unique elements back into the original list\n",
    "    for i in range(len(nums_list)):\n",
    "        nums[i] = nums_list[i]\n",
    "\n",
    "    return len(nums_list)"
   ]
  },
  {
   "cell_type": "code",
   "execution_count": null,
   "metadata": {},
   "outputs": [],
   "source": []
  }
 ],
 "metadata": {
  "kernelspec": {
   "display_name": "training",
   "language": "python",
   "name": "python3"
  },
  "language_info": {
   "codemirror_mode": {
    "name": "ipython",
    "version": 3
   },
   "file_extension": ".py",
   "mimetype": "text/x-python",
   "name": "python",
   "nbconvert_exporter": "python",
   "pygments_lexer": "ipython3",
   "version": "3.10.14"
  }
 },
 "nbformat": 4,
 "nbformat_minor": 2
}
