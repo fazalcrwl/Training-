{
 "cells": [
  {
   "cell_type": "markdown",
   "metadata": {},
   "source": [
    "Given the head of a sorted linked list, delete all duplicates such that each element appears only once. Return the linked list sorted as well."
   ]
  },
  {
   "cell_type": "code",
   "execution_count": null,
   "metadata": {},
   "outputs": [],
   "source": [
    "# Definition for singly-linked list.\n",
    "class ListNode(object):\n",
    "   def __init__(self, val=0, next=None):\n",
    "         self.val = val\n",
    "         self.next = next\n",
    "\n",
    "def list_to_linked_list(lst):\n",
    "    if not lst:\n",
    "        return None\n",
    "\n",
    "    head = ListNode(lst[0])\n",
    "    current = head\n",
    "\n",
    "    for value in lst[1:]:\n",
    "        current.next = ListNode(value)\n",
    "        current = current.next\n",
    "\n",
    "    return head\n",
    "\n",
    "\n",
    "\n",
    "class Solution(object):\n",
    "    def deleteDuplicates(self, head):\n",
    "        \"\"\"\n",
    "        :type head: ListNode\n",
    "        :rtype: ListNode\n",
    "        \"\"\"\n",
    "        temp=[]\n",
    "        temp1=head\n",
    "        while(temp1!=None):\n",
    "            temp.append(temp1.val)\n",
    "            temp1=temp1.next\n",
    "        \n",
    "        \n",
    "\n",
    "        temp=set(temp)\n",
    "        temp=list(temp)\n",
    "        temp=sorted(temp)\n",
    "        head=list_to_linked_list(temp)\n",
    "        return head\n",
    "\n",
    "        \n",
    "        \n",
    "\n",
    "\n",
    "\n",
    "            \n",
    "\n",
    "        "
   ]
  }
 ],
 "metadata": {
  "language_info": {
   "name": "python"
  }
 },
 "nbformat": 4,
 "nbformat_minor": 2
}
