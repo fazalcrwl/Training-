{
 "cells": [
  {
   "cell_type": "markdown",
   "metadata": {},
   "source": [
    "Given a signed 32-bit integer x, return x with its digits reversed. If reversing x causes the value to go outside the signed 32-bit integer range [-231, 231 - 1], then return 0.\n",
    "\n",
    "Assume the environment does not allow you to store 64-bit integers (signed or unsigned).\n",
    "\n"
   ]
  },
  {
   "cell_type": "code",
   "execution_count": null,
   "metadata": {},
   "outputs": [],
   "source": [
    "class Solution(object):\n",
    "    def reverse(self, x):\n",
    "        \"\"\"\n",
    "        :type x: int\n",
    "        :rtype: int\n",
    "        \"\"\"\n",
    "        z=\"\"\n",
    "        INT_MIN, INT_MAX = -2**31, 2**31 - 1        \n",
    "        if x>0:\n",
    "            z=str(x)\n",
    "            z=z[::-1]\n",
    "            z=int(z)\n",
    "\n",
    "            if  z > INT_MAX or z<INT_MIN:\n",
    "                  return 0\n",
    "            else:\n",
    "                return z\n",
    "        \n",
    "\n",
    "                   \n",
    "            \n",
    "        else:\n",
    "            \n",
    "            z=str(abs(x))\n",
    "            z=z[::-1]\n",
    "            z=int(z)\n",
    "            if z  < INT_MIN  or z> INT_MAX:\n",
    "                 return 0\n",
    "            else:\n",
    "                return  -1* z \n",
    "            \n",
    "        \n",
    "            "
   ]
  }
 ],
 "metadata": {
  "language_info": {
   "name": "python"
  }
 },
 "nbformat": 4,
 "nbformat_minor": 2
}
